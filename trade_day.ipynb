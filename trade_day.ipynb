{
 "cells": [
  {
   "cell_type": "markdown",
   "metadata": {},
   "source": [
    "### Trade A Series Of Markets\n",
    "\n",
    "This notbook induces agents developed to trade a market, using the ML model developed in the training notebooks in the notebook folder.\n",
    "\n",
    "The steps are:\n",
    "\n",
    "1. Get a list of markets for the day\n",
    "1. Activate all markets within the trading window (20m), using python threads to run as a background process\n",
    "1. Sleep the script until we are ready to invoke another market"
   ]
  },
  {
   "cell_type": "code",
   "execution_count": null,
   "metadata": {},
   "outputs": [],
   "source": [
    "# %load_ext autoreload\n",
    "# %autoreload 2"
   ]
  },
  {
   "cell_type": "code",
   "execution_count": null,
   "metadata": {},
   "outputs": [],
   "source": [
    "import warnings\n",
    "warnings.filterwarnings(\"ignore\")"
   ]
  },
  {
   "cell_type": "code",
   "execution_count": null,
   "metadata": {},
   "outputs": [],
   "source": [
    "import betfairlightweight\n",
    "import datetime\n",
    "from datetime import datetime as dt\n",
    "import flumine\n",
    "from flumine.resources import recorder\n",
    "from flumine.storage import storageengine\n",
    "import json\n",
    "import numpy as np\n",
    "import pandas as pd\n",
    "import time\n",
    "from agent_bsp import Agent\n",
    "from threading import Thread"
   ]
  },
  {
   "cell_type": "markdown",
   "metadata": {},
   "source": [
    "#### Get market list\n",
    "\n",
    "Get the markets from betfair through the API and then initiate the flumine stream."
   ]
  },
  {
   "cell_type": "code",
   "execution_count": null,
   "metadata": {},
   "outputs": [],
   "source": [
    "HOURS = 6\n",
    "event_id = 7 # Horse Racing ID"
   ]
  },
  {
   "cell_type": "code",
   "execution_count": null,
   "metadata": {},
   "outputs": [],
   "source": [
    "with open('secrets/config.json', 'r') as fp:\n",
    "    config = json.load(fp)\n",
    "\n",
    "trading = betfairlightweight.APIClient(**config)\n",
    "trading.login()"
   ]
  },
  {
   "cell_type": "code",
   "execution_count": null,
   "metadata": {},
   "outputs": [],
   "source": [
    "# TODO: Move to utils\n",
    "def get_markets(event, trading):\n",
    "    market_catalogue_filter = betfairlightweight.filters.market_filter(event_ids=event)\n",
    "\n",
    "    market_catalogues = trading.betting.list_market_catalogue(\n",
    "        filter=market_catalogue_filter,\n",
    "        max_results='100',\n",
    "        sort='FIRST_TO_START'\n",
    "    )\n",
    "\n",
    "    # Create a DataFrame for each market catalogue\n",
    "    market_types_df = pd.DataFrame({\n",
    "        'Market Name': [market_cat_object.market_name for market_cat_object in market_catalogues],\n",
    "        'Market ID': [market_cat_object.market_id for market_cat_object in market_catalogues],\n",
    "        'Total Matched': [market_cat_object.total_matched for market_cat_object in market_catalogues],\n",
    "    })\n",
    "    \n",
    "    market_types_df['Event ID'] = event\n",
    "    \n",
    "    return market_types_df"
   ]
  },
  {
   "cell_type": "code",
   "execution_count": null,
   "metadata": {},
   "outputs": [],
   "source": [
    "# Define a market filter\n",
    "event_filter = betfairlightweight.filters.market_filter(\n",
    "    event_type_ids=[event_id],\n",
    "    market_countries=['AU'],\n",
    "    market_start_time={\n",
    "        'to': (datetime.datetime.utcnow() + datetime.timedelta(hours=HOURS)).strftime(\"%Y-%m-%dT%TZ\")\n",
    "    }\n",
    ")\n",
    "\n",
    "# Get a list of all thoroughbred events as objects\n",
    "events = trading.betting.list_events(\n",
    "    filter=event_filter\n",
    ")\n",
    "\n",
    "# Create a DataFrame with all the events by iterating over each event object\n",
    "event_df = pd.DataFrame({\n",
    "    'Event Name': [event_object.event.name for event_object in events],\n",
    "    'Event ID': [event_object.event.id for event_object in events],\n",
    "    'Event Venue': [event_object.event.venue for event_object in events],\n",
    "    'Country Code': [event_object.event.country_code for event_object in events],\n",
    "    'Time Zone': [event_object.event.time_zone for event_object in events],\n",
    "    'Open Date': [event_object.event.open_date for event_object in events],\n",
    "    'Market Count': [event_object.market_count for event_object in events]\n",
    "})"
   ]
  },
  {
   "cell_type": "code",
   "execution_count": null,
   "metadata": {},
   "outputs": [],
   "source": [
    "# event_df = event_df[(event_df['Event Name'].str.contains('Rand'))|(event_df['Event Name'].str.contains('Flem'))]\n",
    "event_df"
   ]
  },
  {
   "cell_type": "code",
   "execution_count": null,
   "metadata": {},
   "outputs": [],
   "source": [
    "track_dict = event_df[['Event Name', 'Event Venue']]\n",
    "track_dict['Event Name'] = track_dict['Event Name'].str.split(' ').apply(lambda x: x[0])\n",
    "track_dict = dict(track_dict.set_index('Event Venue').to_records())"
   ]
  },
  {
   "cell_type": "code",
   "execution_count": null,
   "metadata": {},
   "outputs": [],
   "source": [
    "market_catalogue_filter = betfairlightweight.filters.market_filter(event_ids=event_df['Event ID'].values.tolist(), market_type_codes=['WIN'])\n",
    "\n",
    "market_catalogues = trading.betting.list_market_catalogue(\n",
    "    filter=market_catalogue_filter,\n",
    "    max_results='500',\n",
    "    sort='FIRST_TO_START'\n",
    ")\n",
    "\n",
    "# Create a DataFrame for each market catalogue\n",
    "market_df = pd.DataFrame({\n",
    "    'Market Name': [market_cat_object.market_name for market_cat_object in market_catalogues],\n",
    "    'Market ID': [market_cat_object.market_id for market_cat_object in market_catalogues],\n",
    "    'Total Matched': [market_cat_object.total_matched for market_cat_object in market_catalogues],\n",
    "})"
   ]
  },
  {
   "cell_type": "code",
   "execution_count": null,
   "metadata": {},
   "outputs": [],
   "source": [
    "market_filter = {\"marketIds\": market_df['Market ID'].values.tolist()}\n",
    "storage_engine = storageengine.Local('./data')\n",
    "rcd =  recorder.MarketRecorder(storage_engine, market_filter=market_filter)"
   ]
  },
  {
   "cell_type": "code",
   "execution_count": null,
   "metadata": {},
   "outputs": [],
   "source": [
    "flumine_object = flumine.flumine.Flumine(\n",
    "    recorder=rcd,\n",
    "    settings={'certificate_login': True, 'betfairlightweight': config}\n",
    ")"
   ]
  },
  {
   "cell_type": "code",
   "execution_count": null,
   "metadata": {},
   "outputs": [],
   "source": [
    "flumine_object.start()"
   ]
  },
  {
   "cell_type": "code",
   "execution_count": null,
   "metadata": {},
   "outputs": [],
   "source": [
    "while flumine_object.status != 'running':\n",
    "    time.sleep(3)\n",
    "time.sleep(10)"
   ]
  },
  {
   "cell_type": "code",
   "execution_count": null,
   "metadata": {},
   "outputs": [],
   "source": [
    "rcd.stream_id"
   ]
  },
  {
   "cell_type": "code",
   "execution_count": null,
   "metadata": {},
   "outputs": [],
   "source": [
    "mrkt_times = []\n",
    "for market in market_df['Market ID']:\n",
    "    try:\n",
    "        with open(f'./data/{rcd.stream_id}/{market}') as f:\n",
    "            m_time = json.loads(f.readline())['mc'][0]['marketDefinition']['marketTime']\n",
    "        mrkt_times.append(m_time)\n",
    "    except:\n",
    "        mrkt_times.append(None)"
   ]
  },
  {
   "cell_type": "markdown",
   "metadata": {},
   "source": [
    "Below is the final market trading df, that has the markets we will trade"
   ]
  },
  {
   "cell_type": "code",
   "execution_count": null,
   "metadata": {},
   "outputs": [],
   "source": [
    "market_df['startTime'] = mrkt_times\n",
    "market_df['startTime'] = pd.to_datetime(market_df.startTime)\n",
    "market_df['tradeTime'] = market_df.startTime - np.timedelta64(20, 'm')\n",
    "market_df['auTime'] = market_df['startTime'].dt.tz_convert('Australia/ACT')\n",
    "# market_df"
   ]
  },
  {
   "cell_type": "code",
   "execution_count": null,
   "metadata": {},
   "outputs": [],
   "source": [
    "trading.logout()"
   ]
  },
  {
   "cell_type": "markdown",
   "metadata": {},
   "source": [
    "#### Trading a single funciton\n",
    "The main trading function, used for each market"
   ]
  },
  {
   "cell_type": "code",
   "execution_count": null,
   "metadata": {},
   "outputs": [],
   "source": [
    "def trade_main(market, rcd, start, end, model='./models/bsp/XRT_1_AutoML_20200109_105830/XRT_1_AutoML_20200109_105830.zip'):  \n",
    "    try:\n",
    "        end = np.datetime64(end)\n",
    "        if np.datetime64('now') > end:\n",
    "            return None\n",
    "\n",
    "        with open('secrets/config.json', 'r') as fp:\n",
    "            config = json.load(fp)\n",
    "\n",
    "        trading = betfairlightweight.APIClient(**config)\n",
    "        trading.login()\n",
    "\n",
    "        bot = Agent(market, trading, rcd, model)\n",
    "\n",
    "        print(f'Start Trading on {market}\\n')\n",
    "        while np.datetime64('now') < end:\n",
    "            bot.poll_directory()\n",
    "            if not bot.in_market:\n",
    "                bot.assess_bsp(verbose=False)\n",
    "            bot.manage_trade()\n",
    "        bot.cashout()\n",
    "\n",
    "        trading.logout()\n",
    "        print(market, f'{market} END END END\\n')\n",
    "    except Exception as e:\n",
    "        print(e)\n",
    "    "
   ]
  },
  {
   "cell_type": "markdown",
   "metadata": {},
   "source": [
    "#### Trading loop\n",
    "Primary loop that starts trading markets at appropraite times"
   ]
  },
  {
   "cell_type": "code",
   "execution_count": null,
   "metadata": {},
   "outputs": [],
   "source": [
    "trading_threads = {}\n",
    "for row in market_df.itertuples(index=False):\n",
    "    race, market, trade_vol, end, start, local = row\n",
    "    if np.datetime64('now') < start.tz_localize(None):\n",
    "        td = start.tz_localize(None) - np.datetime64('now')\n",
    "        print(f'Sleeping {td.total_seconds()/60} Minutes')\n",
    "        time.sleep(td.total_seconds())\n",
    "    trading_threads[market] = Thread(target=trade_main, args=(market, rcd, start, end,))\n",
    "    trading_threads[market].start()\n",
    "    "
   ]
  },
  {
   "cell_type": "code",
   "execution_count": null,
   "metadata": {},
   "outputs": [],
   "source": [
    "flumine_object.stop()"
   ]
  },
  {
   "cell_type": "code",
   "execution_count": null,
   "metadata": {},
   "outputs": [],
   "source": []
  }
 ],
 "metadata": {
  "kernelspec": {
   "display_name": "betfair",
   "language": "python",
   "name": "betfair"
  },
  "language_info": {
   "codemirror_mode": {
    "name": "ipython",
    "version": 3
   },
   "file_extension": ".py",
   "mimetype": "text/x-python",
   "name": "python",
   "nbconvert_exporter": "python",
   "pygments_lexer": "ipython3",
   "version": "3.6.9"
  }
 },
 "nbformat": 4,
 "nbformat_minor": 4
}
