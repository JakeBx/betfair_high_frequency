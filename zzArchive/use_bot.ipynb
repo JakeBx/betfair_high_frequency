{
 "cells": [
  {
   "cell_type": "code",
   "execution_count": 212,
   "metadata": {},
   "outputs": [
    {
     "name": "stdout",
     "output_type": "stream",
     "text": [
      "The autoreload extension is already loaded. To reload it, use:\n",
      "  %reload_ext autoreload\n"
     ]
    }
   ],
   "source": [
    "%load_ext autoreload\n",
    "%autoreload 2"
   ]
  },
  {
   "cell_type": "code",
   "execution_count": 294,
   "metadata": {},
   "outputs": [],
   "source": [
    "import betfairlightweight\n",
    "import flumine\n",
    "from flumine.resources import recorder\n",
    "from flumine.storage import storageengine\n",
    "import json\n",
    "from datetime import datetime as dt\n",
    "import datetime\n",
    "import h2o"
   ]
  },
  {
   "cell_type": "code",
   "execution_count": 295,
   "metadata": {},
   "outputs": [],
   "source": [
    "from agent import Agent"
   ]
  },
  {
   "cell_type": "code",
   "execution_count": 296,
   "metadata": {},
   "outputs": [],
   "source": [
    "model = './models/GLM_grid_1_AutoML_20200104_075510_model_1/GLM_grid_1_AutoML_20200104_075510_model_1.zip'"
   ]
  },
  {
   "cell_type": "code",
   "execution_count": 297,
   "metadata": {},
   "outputs": [],
   "source": [
    "run_time = 19\n",
    "mrkt = '1.167076164'\n",
    "market_ids = [mrkt]"
   ]
  },
  {
   "cell_type": "code",
   "execution_count": 298,
   "metadata": {},
   "outputs": [
    {
     "data": {
      "text/plain": [
       "'17:45:20'"
      ]
     },
     "execution_count": 298,
     "metadata": {},
     "output_type": "execute_result"
    }
   ],
   "source": [
    "end = dt.now() + datetime.timedelta(minutes=run_time)\n",
    "end.strftime(\"%H:%M:%S\")"
   ]
  },
  {
   "cell_type": "code",
   "execution_count": 299,
   "metadata": {},
   "outputs": [],
   "source": [
    "market_filter = {\"marketIds\": market_ids}\n",
    "storage_engine = storageengine.Local('./data')\n",
    "\n",
    "rcd =  recorder.MarketRecorder(storage_engine, market_filter=market_filter)"
   ]
  },
  {
   "cell_type": "code",
   "execution_count": 300,
   "metadata": {},
   "outputs": [
    {
     "data": {
      "text/plain": [
       "<LoginResource>"
      ]
     },
     "execution_count": 300,
     "metadata": {},
     "output_type": "execute_result"
    }
   ],
   "source": [
    "with open('secrets/config.json', 'r') as fp:\n",
    "    config = json.load(fp)\n",
    "\n",
    "trading = betfairlightweight.APIClient(**config)\n",
    "trading.login()"
   ]
  },
  {
   "cell_type": "code",
   "execution_count": 247,
   "metadata": {},
   "outputs": [],
   "source": [
    "bot = Agent(mrkt, trading, rcd, model)"
   ]
  },
  {
   "cell_type": "code",
   "execution_count": 248,
   "metadata": {},
   "outputs": [],
   "source": [
    "bot.init_stream()"
   ]
  },
  {
   "cell_type": "code",
   "execution_count": 250,
   "metadata": {},
   "outputs": [
    {
     "data": {
      "text/plain": [
       "'running'"
      ]
     },
     "execution_count": 250,
     "metadata": {},
     "output_type": "execute_result"
    }
   ],
   "source": [
    "bot.flumine_object.status"
   ]
  },
  {
   "cell_type": "code",
   "execution_count": 286,
   "metadata": {},
   "outputs": [
    {
     "data": {
      "text/plain": [
       "(50, 18)"
      ]
     },
     "execution_count": 286,
     "metadata": {},
     "output_type": "execute_result"
    }
   ],
   "source": [
    "bot.poll_directory()\n",
    "bot_df = bot.market_df()\n",
    "bot_df[bot_df.sid==bot.sid].shape"
   ]
  },
  {
   "cell_type": "code",
   "execution_count": 292,
   "metadata": {},
   "outputs": [
    {
     "name": "stdout",
     "output_type": "stream",
     "text": [
      "0.1954616710107983\n"
     ]
    }
   ],
   "source": [
    "bot.assess_strategy(verbose=True)"
   ]
  },
  {
   "cell_type": "code",
   "execution_count": 288,
   "metadata": {},
   "outputs": [
    {
     "name": "stdout",
     "output_type": "stream",
     "text": [
      "None\n"
     ]
    }
   ],
   "source": [
    "print(bot.current_direction)"
   ]
  },
  {
   "cell_type": "code",
   "execution_count": 289,
   "metadata": {},
   "outputs": [],
   "source": [
    "bot.trade_price"
   ]
  },
  {
   "cell_type": "code",
   "execution_count": 290,
   "metadata": {},
   "outputs": [
    {
     "data": {
      "text/plain": [
       "False"
      ]
     },
     "execution_count": 290,
     "metadata": {},
     "output_type": "execute_result"
    }
   ],
   "source": [
    "bot.in_market"
   ]
  },
  {
   "cell_type": "code",
   "execution_count": 293,
   "metadata": {},
   "outputs": [
    {
     "name": "stdout",
     "output_type": "stream",
     "text": [
      "190670495749_sl\n",
      "{'limitOrder': {'size': 0.03, 'persistenceType': 'LAPSE', 'price': 50.0}, 'side': 'LAY', 'selectionId': 23405261, 'orderType': 'LIMIT'}\n",
      "SUCCESS 190671230131\n",
      "0.1947426547712266\n",
      "1.167076164_bot\n",
      "{'limitOrder': {'size': 0.03, 'persistenceType': 'LAPSE', 'price': 5.1}, 'side': 'BACK', 'selectionId': 23405261, 'orderType': 'LIMIT'}\n",
      "SUCCESS 190671234076\n",
      "190671234076_tp\n",
      "{'limitOrder': {'size': 0.03, 'persistenceType': 'LAPSE', 'price': 4.7}, 'side': 'LAY', 'selectionId': 23405261, 'orderType': 'LIMIT'}\n",
      "SUCCESS 190671238556\n",
      "190670232135_sl\n",
      "{'limitOrder': {'size': 0.03, 'persistenceType': 'LAPSE', 'price': 50.0}, 'side': 'LAY', 'selectionId': 23405261, 'orderType': 'LIMIT'}\n",
      "SUCCESS 190671248706\n",
      "0.2538466166573385\n",
      "0.2520123920744744\n",
      "0.24965297006164086\n",
      "1.167076164_bot\n",
      "{'limitOrder': {'size': 0.03, 'persistenceType': 'LAPSE', 'price': 5.4}, 'side': 'BACK', 'selectionId': 23405261, 'orderType': 'LIMIT'}\n",
      "SUCCESS 190671253788\n",
      "190671234076_tp\n",
      "{'limitOrder': {'size': 0.03, 'persistenceType': 'LAPSE', 'price': 4.7}, 'side': 'LAY', 'selectionId': 23405261, 'orderType': 'LIMIT'}\n",
      "SUCCESS 190671259929\n",
      "190671253788_tp\n",
      "{'limitOrder': {'size': 0.03, 'persistenceType': 'LAPSE', 'price': 5.0}, 'side': 'LAY', 'selectionId': 23405261, 'orderType': 'LIMIT'}\n",
      "SUCCESS 190671262782\n",
      "190671234076_sl\n",
      "{'limitOrder': {'size': 0.03, 'persistenceType': 'LAPSE', 'price': 50.0}, 'side': 'LAY', 'selectionId': 23405261, 'orderType': 'LIMIT'}\n",
      "SUCCESS 190671321387\n",
      "0.19611751638596192\n",
      "1.167076164_bot\n",
      "{'limitOrder': {'size': 0.03, 'persistenceType': 'LAPSE', 'price': 5.8}, 'side': 'BACK', 'selectionId': 23405261, 'orderType': 'LIMIT'}\n",
      "SUCCESS 190671323945\n",
      "190671253788_tp\n",
      "{'limitOrder': {'size': 0.03, 'persistenceType': 'LAPSE', 'price': 5.0}, 'side': 'LAY', 'selectionId': 23405261, 'orderType': 'LIMIT'}\n",
      "SUCCESS 190671328117\n",
      "190671323945_tp\n",
      "{'limitOrder': {'size': 0.03, 'persistenceType': 'LAPSE', 'price': 5.4}, 'side': 'LAY', 'selectionId': 23405261, 'orderType': 'LIMIT'}\n",
      "SUCCESS 190671330284\n",
      "190671253788_sl\n",
      "{'limitOrder': {'size': 0.03, 'persistenceType': 'LAPSE', 'price': 50.0}, 'side': 'LAY', 'selectionId': 23405261, 'orderType': 'LIMIT'}\n",
      "SUCCESS 190671340381\n",
      "0.24326781256213545\n",
      "1.167076164_bot\n",
      "{'limitOrder': {'size': 0.03, 'persistenceType': 'LAPSE', 'price': 6.2}, 'side': 'BACK', 'selectionId': 23405261, 'orderType': 'LIMIT'}\n",
      "SUCCESS 190671343294\n",
      "190671323945_tp\n",
      "{'limitOrder': {'size': 0.03, 'persistenceType': 'LAPSE', 'price': 5.4}, 'side': 'LAY', 'selectionId': 23405261, 'orderType': 'LIMIT'}\n",
      "SUCCESS 190671347935\n",
      "0.23914014331107866\n",
      "1.167076164_bot\n",
      "{'limitOrder': {'size': 0.03, 'persistenceType': 'LAPSE', 'price': 6.2}, 'side': 'BACK', 'selectionId': 23405261, 'orderType': 'LIMIT'}\n",
      "SUCCESS 190671362426\n",
      "190671323945_tp\n",
      "{'limitOrder': {'size': 0.03, 'persistenceType': 'LAPSE', 'price': 5.4}, 'side': 'LAY', 'selectionId': 23405261, 'orderType': 'LIMIT'}\n",
      "SUCCESS 190671367990\n",
      "190671362426_tp\n",
      "{'limitOrder': {'size': 0.03, 'persistenceType': 'LAPSE', 'price': 5.7}, 'side': 'LAY', 'selectionId': 23405261, 'orderType': 'LIMIT'}\n",
      "SUCCESS 190671372014\n",
      "0.27520145387070954\n",
      "0.27753514973809795\n",
      "0.2771117203220324\n",
      "0.2763085816465655\n",
      "0.2797308963419988\n",
      "0.2783311940033853\n",
      "0.2706094235615551\n",
      "0.2704343455287939\n",
      "0.2688963885686071\n",
      "0.2625365155395627\n",
      "0.2616952804446387\n",
      "0.26155436585510633\n",
      "0.26160321572770057\n",
      "0.2481997359230385\n",
      "1.167076164_bot\n",
      "{'limitOrder': {'size': 0.03, 'persistenceType': 'LAPSE', 'price': 5.8}, 'side': 'BACK', 'selectionId': 23405261, 'orderType': 'LIMIT'}\n",
      "SUCCESS 190671399209\n",
      "190671399209_tp\n",
      "{'limitOrder': {'size': 0.03, 'persistenceType': 'LAPSE', 'price': 5.4}, 'side': 'LAY', 'selectionId': 23405261, 'orderType': 'LIMIT'}\n",
      "SUCCESS 190671404726\n",
      "END END END\n"
     ]
    },
    {
     "name": "stderr",
     "output_type": "stream",
     "text": [
      "ERROR:flumine.flumine:Betfair error: [Connect: 1002.0]: Socket The read operation timed out\n",
      "Traceback (most recent call last):\n",
      "  File \"/Users/jake/miniconda3/envs/betfair/lib/python3.6/site-packages/betfairlightweight/streaming/betfairstream.py\", line 212, in _receive_all\n",
      "    part = self._socket.recv(self.buffer_size)\n",
      "  File \"/Users/jake/miniconda3/envs/betfair/lib/python3.6/ssl.py\", line 997, in recv\n",
      "    return self.read(buflen)\n",
      "  File \"/Users/jake/miniconda3/envs/betfair/lib/python3.6/ssl.py\", line 874, in read\n",
      "    return self._sslobj.read(len, buffer)\n",
      "  File \"/Users/jake/miniconda3/envs/betfair/lib/python3.6/ssl.py\", line 633, in read\n",
      "    v = self._sslobj.read(len)\n",
      "socket.timeout: The read operation timed out\n",
      "\n",
      "During handling of the above exception, another exception occurred:\n",
      "\n",
      "Traceback (most recent call last):\n",
      "  File \"/Users/jake/miniconda3/envs/betfair/lib/python3.6/site-packages/flumine/flumine.py\", line 122, in _run\n",
      "    self._socket.start(async_=False)\n",
      "  File \"/Users/jake/miniconda3/envs/betfair/lib/python3.6/site-packages/betfairlightweight/streaming/betfairstream.py\", line 60, in start\n",
      "    self._read_loop()\n",
      "  File \"/Users/jake/miniconda3/envs/betfair/lib/python3.6/site-packages/betfairlightweight/streaming/betfairstream.py\", line 191, in _read_loop\n",
      "    received_data_raw = self._receive_all()\n",
      "  File \"/Users/jake/miniconda3/envs/betfair/lib/python3.6/site-packages/betfairlightweight/streaming/betfairstream.py\", line 216, in _receive_all\n",
      "    raise SocketError('[Connect: %s]: Socket %s' % (self._unique_id, e))\n",
      "betfairlightweight.exceptions.SocketError: [Connect: 1002.0]: Socket The read operation timed out\n",
      "ERROR:flumine.flumine:Betfair error: [Connect: 1003.0]: Socket The read operation timed out\n",
      "Traceback (most recent call last):\n",
      "  File \"/Users/jake/miniconda3/envs/betfair/lib/python3.6/site-packages/betfairlightweight/streaming/betfairstream.py\", line 212, in _receive_all\n",
      "    part = self._socket.recv(self.buffer_size)\n",
      "  File \"/Users/jake/miniconda3/envs/betfair/lib/python3.6/ssl.py\", line 997, in recv\n",
      "    return self.read(buflen)\n",
      "  File \"/Users/jake/miniconda3/envs/betfair/lib/python3.6/ssl.py\", line 874, in read\n",
      "    return self._sslobj.read(len, buffer)\n",
      "  File \"/Users/jake/miniconda3/envs/betfair/lib/python3.6/ssl.py\", line 633, in read\n",
      "    v = self._sslobj.read(len)\n",
      "socket.timeout: The read operation timed out\n",
      "\n",
      "During handling of the above exception, another exception occurred:\n",
      "\n",
      "Traceback (most recent call last):\n",
      "  File \"/Users/jake/miniconda3/envs/betfair/lib/python3.6/site-packages/flumine/flumine.py\", line 122, in _run\n",
      "    self._socket.start(async_=False)\n",
      "  File \"/Users/jake/miniconda3/envs/betfair/lib/python3.6/site-packages/betfairlightweight/streaming/betfairstream.py\", line 60, in start\n",
      "    self._read_loop()\n",
      "  File \"/Users/jake/miniconda3/envs/betfair/lib/python3.6/site-packages/betfairlightweight/streaming/betfairstream.py\", line 191, in _read_loop\n",
      "    received_data_raw = self._receive_all()\n",
      "  File \"/Users/jake/miniconda3/envs/betfair/lib/python3.6/site-packages/betfairlightweight/streaming/betfairstream.py\", line 216, in _receive_all\n",
      "    raise SocketError('[Connect: %s]: Socket %s' % (self._unique_id, e))\n",
      "betfairlightweight.exceptions.SocketError: [Connect: 1003.0]: Socket The read operation timed out\n",
      "WARNING:betfairlightweight.streaming.stream:[Stream: 1003.0]: Latency high: 16694.181298971176\n",
      "ERROR:flumine.flumine:Betfair error: [Connect: 1004.0]: Socket The read operation timed out\n",
      "Traceback (most recent call last):\n",
      "  File \"/Users/jake/miniconda3/envs/betfair/lib/python3.6/site-packages/betfairlightweight/streaming/betfairstream.py\", line 212, in _receive_all\n",
      "    part = self._socket.recv(self.buffer_size)\n",
      "  File \"/Users/jake/miniconda3/envs/betfair/lib/python3.6/ssl.py\", line 997, in recv\n",
      "    return self.read(buflen)\n",
      "  File \"/Users/jake/miniconda3/envs/betfair/lib/python3.6/ssl.py\", line 874, in read\n",
      "    return self._sslobj.read(len, buffer)\n",
      "  File \"/Users/jake/miniconda3/envs/betfair/lib/python3.6/ssl.py\", line 633, in read\n",
      "    v = self._sslobj.read(len)\n",
      "socket.timeout: The read operation timed out\n",
      "\n",
      "During handling of the above exception, another exception occurred:\n",
      "\n",
      "Traceback (most recent call last):\n",
      "  File \"/Users/jake/miniconda3/envs/betfair/lib/python3.6/site-packages/flumine/flumine.py\", line 122, in _run\n",
      "    self._socket.start(async_=False)\n",
      "  File \"/Users/jake/miniconda3/envs/betfair/lib/python3.6/site-packages/betfairlightweight/streaming/betfairstream.py\", line 60, in start\n",
      "    self._read_loop()\n",
      "  File \"/Users/jake/miniconda3/envs/betfair/lib/python3.6/site-packages/betfairlightweight/streaming/betfairstream.py\", line 191, in _read_loop\n",
      "    received_data_raw = self._receive_all()\n",
      "  File \"/Users/jake/miniconda3/envs/betfair/lib/python3.6/site-packages/betfairlightweight/streaming/betfairstream.py\", line 216, in _receive_all\n",
      "    raise SocketError('[Connect: %s]: Socket %s' % (self._unique_id, e))\n",
      "betfairlightweight.exceptions.SocketError: [Connect: 1004.0]: Socket The read operation timed out\n",
      "ERROR:flumine.flumine:Betfair login error: None \n",
      "Params: None \n",
      "Exception: ConnectionError\n",
      "Traceback (most recent call last):\n",
      "  File \"/Users/jake/miniconda3/envs/betfair/lib/python3.6/site-packages/urllib3/connection.py\", line 157, in _new_conn\n",
      "    (self._dns_host, self.port), self.timeout, **extra_kw\n",
      "  File \"/Users/jake/miniconda3/envs/betfair/lib/python3.6/site-packages/urllib3/util/connection.py\", line 61, in create_connection\n",
      "    for res in socket.getaddrinfo(host, port, family, socket.SOCK_STREAM):\n",
      "  File \"/Users/jake/miniconda3/envs/betfair/lib/python3.6/socket.py\", line 745, in getaddrinfo\n",
      "    for res in _socket.getaddrinfo(host, port, family, type, proto, flags):\n",
      "socket.gaierror: [Errno 8] nodename nor servname provided, or not known\n",
      "\n",
      "During handling of the above exception, another exception occurred:\n",
      "\n",
      "Traceback (most recent call last):\n",
      "  File \"/Users/jake/miniconda3/envs/betfair/lib/python3.6/site-packages/urllib3/connectionpool.py\", line 672, in urlopen\n",
      "    chunked=chunked,\n",
      "  File \"/Users/jake/miniconda3/envs/betfair/lib/python3.6/site-packages/urllib3/connectionpool.py\", line 376, in _make_request\n",
      "    self._validate_conn(conn)\n",
      "  File \"/Users/jake/miniconda3/envs/betfair/lib/python3.6/site-packages/urllib3/connectionpool.py\", line 994, in _validate_conn\n",
      "    conn.connect()\n",
      "  File \"/Users/jake/miniconda3/envs/betfair/lib/python3.6/site-packages/urllib3/connection.py\", line 334, in connect\n",
      "    conn = self._new_conn()\n",
      "  File \"/Users/jake/miniconda3/envs/betfair/lib/python3.6/site-packages/urllib3/connection.py\", line 169, in _new_conn\n",
      "    self, \"Failed to establish a new connection: %s\" % e\n",
      "urllib3.exceptions.NewConnectionError: <urllib3.connection.VerifiedHTTPSConnection object at 0x11e903cf8>: Failed to establish a new connection: [Errno 8] nodename nor servname provided, or not known\n",
      "\n",
      "During handling of the above exception, another exception occurred:\n",
      "\n",
      "Traceback (most recent call last):\n",
      "  File \"/Users/jake/miniconda3/envs/betfair/lib/python3.6/site-packages/requests/adapters.py\", line 449, in send\n",
      "    timeout=timeout\n",
      "  File \"/Users/jake/miniconda3/envs/betfair/lib/python3.6/site-packages/urllib3/connectionpool.py\", line 720, in urlopen\n",
      "    method, url, error=e, _pool=self, _stacktrace=sys.exc_info()[2]\n",
      "  File \"/Users/jake/miniconda3/envs/betfair/lib/python3.6/site-packages/urllib3/util/retry.py\", line 436, in increment\n",
      "    raise MaxRetryError(_pool, url, error or ResponseError(cause))\n",
      "urllib3.exceptions.MaxRetryError: HTTPSConnectionPool(host='identitysso-cert.betfair.com', port=443): Max retries exceeded with url: /api/certlogin (Caused by NewConnectionError('<urllib3.connection.VerifiedHTTPSConnection object at 0x11e903cf8>: Failed to establish a new connection: [Errno 8] nodename nor servname provided, or not known',))\n",
      "\n",
      "During handling of the above exception, another exception occurred:\n",
      "\n",
      "Traceback (most recent call last):\n",
      "  File \"/Users/jake/miniconda3/envs/betfair/lib/python3.6/site-packages/betfairlightweight/endpoints/login.py\", line 38, in request\n",
      "    response = session.post(self.url, data=self.data, headers=self.client.login_headers, cert=self.client.cert)\n",
      "  File \"/Users/jake/miniconda3/envs/betfair/lib/python3.6/site-packages/requests/api.py\", line 116, in post\n",
      "    return request('post', url, data=data, json=json, **kwargs)\n",
      "  File \"/Users/jake/miniconda3/envs/betfair/lib/python3.6/site-packages/requests/api.py\", line 60, in request\n",
      "    return session.request(method=method, url=url, **kwargs)\n",
      "  File \"/Users/jake/miniconda3/envs/betfair/lib/python3.6/site-packages/requests/sessions.py\", line 533, in request\n",
      "    resp = self.send(prep, **send_kwargs)\n",
      "  File \"/Users/jake/miniconda3/envs/betfair/lib/python3.6/site-packages/requests/sessions.py\", line 646, in send\n",
      "    r = adapter.send(request, **kwargs)\n",
      "  File \"/Users/jake/miniconda3/envs/betfair/lib/python3.6/site-packages/requests/adapters.py\", line 516, in send\n",
      "    raise ConnectionError(e, request=request)\n",
      "requests.exceptions.ConnectionError: HTTPSConnectionPool(host='identitysso-cert.betfair.com', port=443): Max retries exceeded with url: /api/certlogin (Caused by NewConnectionError('<urllib3.connection.VerifiedHTTPSConnection object at 0x11e903cf8>: Failed to establish a new connection: [Errno 8] nodename nor servname provided, or not known',))\n",
      "\n",
      "During handling of the above exception, another exception occurred:\n",
      "\n",
      "Traceback (most recent call last):\n",
      "  File \"/Users/jake/miniconda3/envs/betfair/lib/python3.6/site-packages/flumine/flumine.py\", line 136, in _check_login\n",
      "    self.trading.login()\n",
      "  File \"/Users/jake/miniconda3/envs/betfair/lib/python3.6/site-packages/betfairlightweight/endpoints/login.py\", line 30, in __call__\n",
      "    (response, elapsed_time) = self.request(self.url, session=session)\n",
      "  File \"/Users/jake/miniconda3/envs/betfair/lib/python3.6/site-packages/betfairlightweight/endpoints/login.py\", line 40, in request\n",
      "    raise APIError(None, exception='ConnectionError')\n",
      "betfairlightweight.exceptions.APIError: None \n",
      "Params: None \n",
      "Exception: ConnectionError\n",
      "ERROR:flumine.flumine:Betfair login error: None \n",
      "Params: None \n",
      "Exception: ConnectionError\n",
      "Traceback (most recent call last):\n",
      "  File \"/Users/jake/miniconda3/envs/betfair/lib/python3.6/site-packages/urllib3/connection.py\", line 157, in _new_conn\n",
      "    (self._dns_host, self.port), self.timeout, **extra_kw\n",
      "  File \"/Users/jake/miniconda3/envs/betfair/lib/python3.6/site-packages/urllib3/util/connection.py\", line 61, in create_connection\n",
      "    for res in socket.getaddrinfo(host, port, family, socket.SOCK_STREAM):\n",
      "  File \"/Users/jake/miniconda3/envs/betfair/lib/python3.6/socket.py\", line 745, in getaddrinfo\n",
      "    for res in _socket.getaddrinfo(host, port, family, type, proto, flags):\n",
      "socket.gaierror: [Errno 8] nodename nor servname provided, or not known\n",
      "\n",
      "During handling of the above exception, another exception occurred:\n",
      "\n",
      "Traceback (most recent call last):\n",
      "  File \"/Users/jake/miniconda3/envs/betfair/lib/python3.6/site-packages/urllib3/connectionpool.py\", line 672, in urlopen\n",
      "    chunked=chunked,\n",
      "  File \"/Users/jake/miniconda3/envs/betfair/lib/python3.6/site-packages/urllib3/connectionpool.py\", line 376, in _make_request\n",
      "    self._validate_conn(conn)\n",
      "  File \"/Users/jake/miniconda3/envs/betfair/lib/python3.6/site-packages/urllib3/connectionpool.py\", line 994, in _validate_conn\n",
      "    conn.connect()\n",
      "  File \"/Users/jake/miniconda3/envs/betfair/lib/python3.6/site-packages/urllib3/connection.py\", line 334, in connect\n",
      "    conn = self._new_conn()\n",
      "  File \"/Users/jake/miniconda3/envs/betfair/lib/python3.6/site-packages/urllib3/connection.py\", line 169, in _new_conn\n",
      "    self, \"Failed to establish a new connection: %s\" % e\n",
      "urllib3.exceptions.NewConnectionError: <urllib3.connection.VerifiedHTTPSConnection object at 0x11e9037b8>: Failed to establish a new connection: [Errno 8] nodename nor servname provided, or not known\n",
      "\n",
      "During handling of the above exception, another exception occurred:\n",
      "\n",
      "Traceback (most recent call last):\n",
      "  File \"/Users/jake/miniconda3/envs/betfair/lib/python3.6/site-packages/requests/adapters.py\", line 449, in send\n",
      "    timeout=timeout\n",
      "  File \"/Users/jake/miniconda3/envs/betfair/lib/python3.6/site-packages/urllib3/connectionpool.py\", line 720, in urlopen\n",
      "    method, url, error=e, _pool=self, _stacktrace=sys.exc_info()[2]\n",
      "  File \"/Users/jake/miniconda3/envs/betfair/lib/python3.6/site-packages/urllib3/util/retry.py\", line 436, in increment\n",
      "    raise MaxRetryError(_pool, url, error or ResponseError(cause))\n",
      "urllib3.exceptions.MaxRetryError: HTTPSConnectionPool(host='identitysso-cert.betfair.com', port=443): Max retries exceeded with url: /api/certlogin (Caused by NewConnectionError('<urllib3.connection.VerifiedHTTPSConnection object at 0x11e9037b8>: Failed to establish a new connection: [Errno 8] nodename nor servname provided, or not known',))\n",
      "\n",
      "During handling of the above exception, another exception occurred:\n",
      "\n",
      "Traceback (most recent call last):\n",
      "  File \"/Users/jake/miniconda3/envs/betfair/lib/python3.6/site-packages/betfairlightweight/endpoints/login.py\", line 38, in request\n",
      "    response = session.post(self.url, data=self.data, headers=self.client.login_headers, cert=self.client.cert)\n",
      "  File \"/Users/jake/miniconda3/envs/betfair/lib/python3.6/site-packages/requests/api.py\", line 116, in post\n",
      "    return request('post', url, data=data, json=json, **kwargs)\n",
      "  File \"/Users/jake/miniconda3/envs/betfair/lib/python3.6/site-packages/requests/api.py\", line 60, in request\n",
      "    return session.request(method=method, url=url, **kwargs)\n",
      "  File \"/Users/jake/miniconda3/envs/betfair/lib/python3.6/site-packages/requests/sessions.py\", line 533, in request\n",
      "    resp = self.send(prep, **send_kwargs)\n",
      "  File \"/Users/jake/miniconda3/envs/betfair/lib/python3.6/site-packages/requests/sessions.py\", line 646, in send\n",
      "    r = adapter.send(request, **kwargs)\n",
      "  File \"/Users/jake/miniconda3/envs/betfair/lib/python3.6/site-packages/requests/adapters.py\", line 516, in send\n",
      "    raise ConnectionError(e, request=request)\n",
      "requests.exceptions.ConnectionError: HTTPSConnectionPool(host='identitysso-cert.betfair.com', port=443): Max retries exceeded with url: /api/certlogin (Caused by NewConnectionError('<urllib3.connection.VerifiedHTTPSConnection object at 0x11e9037b8>: Failed to establish a new connection: [Errno 8] nodename nor servname provided, or not known',))\n",
      "\n",
      "During handling of the above exception, another exception occurred:\n",
      "\n",
      "Traceback (most recent call last):\n",
      "  File \"/Users/jake/miniconda3/envs/betfair/lib/python3.6/site-packages/flumine/flumine.py\", line 136, in _check_login\n",
      "    self.trading.login()\n",
      "  File \"/Users/jake/miniconda3/envs/betfair/lib/python3.6/site-packages/betfairlightweight/endpoints/login.py\", line 30, in __call__\n",
      "    (response, elapsed_time) = self.request(self.url, session=session)\n",
      "  File \"/Users/jake/miniconda3/envs/betfair/lib/python3.6/site-packages/betfairlightweight/endpoints/login.py\", line 40, in request\n",
      "    raise APIError(None, exception='ConnectionError')\n",
      "betfairlightweight.exceptions.APIError: None \n",
      "Params: None \n",
      "Exception: ConnectionError\n",
      "ERROR:flumine.flumine:Betfair login error: None \n",
      "Params: None \n",
      "Exception: ConnectionError\n",
      "Traceback (most recent call last):\n",
      "  File \"/Users/jake/miniconda3/envs/betfair/lib/python3.6/site-packages/urllib3/connection.py\", line 157, in _new_conn\n",
      "    (self._dns_host, self.port), self.timeout, **extra_kw\n",
      "  File \"/Users/jake/miniconda3/envs/betfair/lib/python3.6/site-packages/urllib3/util/connection.py\", line 61, in create_connection\n",
      "    for res in socket.getaddrinfo(host, port, family, socket.SOCK_STREAM):\n",
      "  File \"/Users/jake/miniconda3/envs/betfair/lib/python3.6/socket.py\", line 745, in getaddrinfo\n",
      "    for res in _socket.getaddrinfo(host, port, family, type, proto, flags):\n",
      "socket.gaierror: [Errno 8] nodename nor servname provided, or not known\n",
      "\n",
      "During handling of the above exception, another exception occurred:\n",
      "\n",
      "Traceback (most recent call last):\n",
      "  File \"/Users/jake/miniconda3/envs/betfair/lib/python3.6/site-packages/urllib3/connectionpool.py\", line 672, in urlopen\n",
      "    chunked=chunked,\n",
      "  File \"/Users/jake/miniconda3/envs/betfair/lib/python3.6/site-packages/urllib3/connectionpool.py\", line 376, in _make_request\n",
      "    self._validate_conn(conn)\n",
      "  File \"/Users/jake/miniconda3/envs/betfair/lib/python3.6/site-packages/urllib3/connectionpool.py\", line 994, in _validate_conn\n",
      "    conn.connect()\n",
      "  File \"/Users/jake/miniconda3/envs/betfair/lib/python3.6/site-packages/urllib3/connection.py\", line 334, in connect\n",
      "    conn = self._new_conn()\n",
      "  File \"/Users/jake/miniconda3/envs/betfair/lib/python3.6/site-packages/urllib3/connection.py\", line 169, in _new_conn\n",
      "    self, \"Failed to establish a new connection: %s\" % e\n",
      "urllib3.exceptions.NewConnectionError: <urllib3.connection.VerifiedHTTPSConnection object at 0x11e9037b8>: Failed to establish a new connection: [Errno 8] nodename nor servname provided, or not known\n",
      "\n",
      "During handling of the above exception, another exception occurred:\n",
      "\n",
      "Traceback (most recent call last):\n",
      "  File \"/Users/jake/miniconda3/envs/betfair/lib/python3.6/site-packages/requests/adapters.py\", line 449, in send\n",
      "    timeout=timeout\n",
      "  File \"/Users/jake/miniconda3/envs/betfair/lib/python3.6/site-packages/urllib3/connectionpool.py\", line 720, in urlopen\n",
      "    method, url, error=e, _pool=self, _stacktrace=sys.exc_info()[2]\n",
      "  File \"/Users/jake/miniconda3/envs/betfair/lib/python3.6/site-packages/urllib3/util/retry.py\", line 436, in increment\n",
      "    raise MaxRetryError(_pool, url, error or ResponseError(cause))\n",
      "urllib3.exceptions.MaxRetryError: HTTPSConnectionPool(host='identitysso-cert.betfair.com', port=443): Max retries exceeded with url: /api/certlogin (Caused by NewConnectionError('<urllib3.connection.VerifiedHTTPSConnection object at 0x11e9037b8>: Failed to establish a new connection: [Errno 8] nodename nor servname provided, or not known',))\n",
      "\n",
      "During handling of the above exception, another exception occurred:\n",
      "\n",
      "Traceback (most recent call last):\n",
      "  File \"/Users/jake/miniconda3/envs/betfair/lib/python3.6/site-packages/betfairlightweight/endpoints/login.py\", line 38, in request\n",
      "    response = session.post(self.url, data=self.data, headers=self.client.login_headers, cert=self.client.cert)\n",
      "  File \"/Users/jake/miniconda3/envs/betfair/lib/python3.6/site-packages/requests/api.py\", line 116, in post\n",
      "    return request('post', url, data=data, json=json, **kwargs)\n",
      "  File \"/Users/jake/miniconda3/envs/betfair/lib/python3.6/site-packages/requests/api.py\", line 60, in request\n",
      "    return session.request(method=method, url=url, **kwargs)\n",
      "  File \"/Users/jake/miniconda3/envs/betfair/lib/python3.6/site-packages/requests/sessions.py\", line 533, in request\n",
      "    resp = self.send(prep, **send_kwargs)\n",
      "  File \"/Users/jake/miniconda3/envs/betfair/lib/python3.6/site-packages/requests/sessions.py\", line 646, in send\n",
      "    r = adapter.send(request, **kwargs)\n",
      "  File \"/Users/jake/miniconda3/envs/betfair/lib/python3.6/site-packages/requests/adapters.py\", line 516, in send\n",
      "    raise ConnectionError(e, request=request)\n",
      "requests.exceptions.ConnectionError: HTTPSConnectionPool(host='identitysso-cert.betfair.com', port=443): Max retries exceeded with url: /api/certlogin (Caused by NewConnectionError('<urllib3.connection.VerifiedHTTPSConnection object at 0x11e9037b8>: Failed to establish a new connection: [Errno 8] nodename nor servname provided, or not known',))\n",
      "\n",
      "During handling of the above exception, another exception occurred:\n",
      "\n",
      "Traceback (most recent call last):\n",
      "  File \"/Users/jake/miniconda3/envs/betfair/lib/python3.6/site-packages/flumine/flumine.py\", line 136, in _check_login\n",
      "    self.trading.login()\n",
      "  File \"/Users/jake/miniconda3/envs/betfair/lib/python3.6/site-packages/betfairlightweight/endpoints/login.py\", line 30, in __call__\n",
      "    (response, elapsed_time) = self.request(self.url, session=session)\n",
      "  File \"/Users/jake/miniconda3/envs/betfair/lib/python3.6/site-packages/betfairlightweight/endpoints/login.py\", line 40, in request\n",
      "    raise APIError(None, exception='ConnectionError')\n",
      "betfairlightweight.exceptions.APIError: None \n",
      "Params: None \n",
      "Exception: ConnectionError\n",
      "ERROR:flumine.flumine:Betfair login error: None \n",
      "Params: None \n",
      "Exception: ConnectionError\n",
      "Traceback (most recent call last):\n",
      "  File \"/Users/jake/miniconda3/envs/betfair/lib/python3.6/site-packages/urllib3/connection.py\", line 157, in _new_conn\n",
      "    (self._dns_host, self.port), self.timeout, **extra_kw\n",
      "  File \"/Users/jake/miniconda3/envs/betfair/lib/python3.6/site-packages/urllib3/util/connection.py\", line 61, in create_connection\n",
      "    for res in socket.getaddrinfo(host, port, family, socket.SOCK_STREAM):\n",
      "  File \"/Users/jake/miniconda3/envs/betfair/lib/python3.6/socket.py\", line 745, in getaddrinfo\n",
      "    for res in _socket.getaddrinfo(host, port, family, type, proto, flags):\n",
      "socket.gaierror: [Errno 8] nodename nor servname provided, or not known\n",
      "\n",
      "During handling of the above exception, another exception occurred:\n",
      "\n",
      "Traceback (most recent call last):\n",
      "  File \"/Users/jake/miniconda3/envs/betfair/lib/python3.6/site-packages/urllib3/connectionpool.py\", line 672, in urlopen\n",
      "    chunked=chunked,\n",
      "  File \"/Users/jake/miniconda3/envs/betfair/lib/python3.6/site-packages/urllib3/connectionpool.py\", line 376, in _make_request\n",
      "    self._validate_conn(conn)\n",
      "  File \"/Users/jake/miniconda3/envs/betfair/lib/python3.6/site-packages/urllib3/connectionpool.py\", line 994, in _validate_conn\n",
      "    conn.connect()\n",
      "  File \"/Users/jake/miniconda3/envs/betfair/lib/python3.6/site-packages/urllib3/connection.py\", line 334, in connect\n",
      "    conn = self._new_conn()\n",
      "  File \"/Users/jake/miniconda3/envs/betfair/lib/python3.6/site-packages/urllib3/connection.py\", line 169, in _new_conn\n",
      "    self, \"Failed to establish a new connection: %s\" % e\n",
      "urllib3.exceptions.NewConnectionError: <urllib3.connection.VerifiedHTTPSConnection object at 0x11e9037b8>: Failed to establish a new connection: [Errno 8] nodename nor servname provided, or not known\n",
      "\n",
      "During handling of the above exception, another exception occurred:\n",
      "\n",
      "Traceback (most recent call last):\n",
      "  File \"/Users/jake/miniconda3/envs/betfair/lib/python3.6/site-packages/requests/adapters.py\", line 449, in send\n",
      "    timeout=timeout\n",
      "  File \"/Users/jake/miniconda3/envs/betfair/lib/python3.6/site-packages/urllib3/connectionpool.py\", line 720, in urlopen\n",
      "    method, url, error=e, _pool=self, _stacktrace=sys.exc_info()[2]\n",
      "  File \"/Users/jake/miniconda3/envs/betfair/lib/python3.6/site-packages/urllib3/util/retry.py\", line 436, in increment\n",
      "    raise MaxRetryError(_pool, url, error or ResponseError(cause))\n",
      "urllib3.exceptions.MaxRetryError: HTTPSConnectionPool(host='identitysso-cert.betfair.com', port=443): Max retries exceeded with url: /api/certlogin (Caused by NewConnectionError('<urllib3.connection.VerifiedHTTPSConnection object at 0x11e9037b8>: Failed to establish a new connection: [Errno 8] nodename nor servname provided, or not known',))\n",
      "\n",
      "During handling of the above exception, another exception occurred:\n",
      "\n",
      "Traceback (most recent call last):\n",
      "  File \"/Users/jake/miniconda3/envs/betfair/lib/python3.6/site-packages/betfairlightweight/endpoints/login.py\", line 38, in request\n",
      "    response = session.post(self.url, data=self.data, headers=self.client.login_headers, cert=self.client.cert)\n",
      "  File \"/Users/jake/miniconda3/envs/betfair/lib/python3.6/site-packages/requests/api.py\", line 116, in post\n",
      "    return request('post', url, data=data, json=json, **kwargs)\n",
      "  File \"/Users/jake/miniconda3/envs/betfair/lib/python3.6/site-packages/requests/api.py\", line 60, in request\n",
      "    return session.request(method=method, url=url, **kwargs)\n",
      "  File \"/Users/jake/miniconda3/envs/betfair/lib/python3.6/site-packages/requests/sessions.py\", line 533, in request\n",
      "    resp = self.send(prep, **send_kwargs)\n",
      "  File \"/Users/jake/miniconda3/envs/betfair/lib/python3.6/site-packages/requests/sessions.py\", line 646, in send\n",
      "    r = adapter.send(request, **kwargs)\n",
      "  File \"/Users/jake/miniconda3/envs/betfair/lib/python3.6/site-packages/requests/adapters.py\", line 516, in send\n",
      "    raise ConnectionError(e, request=request)\n",
      "requests.exceptions.ConnectionError: HTTPSConnectionPool(host='identitysso-cert.betfair.com', port=443): Max retries exceeded with url: /api/certlogin (Caused by NewConnectionError('<urllib3.connection.VerifiedHTTPSConnection object at 0x11e9037b8>: Failed to establish a new connection: [Errno 8] nodename nor servname provided, or not known',))\n",
      "\n",
      "During handling of the above exception, another exception occurred:\n",
      "\n",
      "Traceback (most recent call last):\n",
      "  File \"/Users/jake/miniconda3/envs/betfair/lib/python3.6/site-packages/flumine/flumine.py\", line 136, in _check_login\n",
      "    self.trading.login()\n",
      "  File \"/Users/jake/miniconda3/envs/betfair/lib/python3.6/site-packages/betfairlightweight/endpoints/login.py\", line 30, in __call__\n",
      "    (response, elapsed_time) = self.request(self.url, session=session)\n",
      "  File \"/Users/jake/miniconda3/envs/betfair/lib/python3.6/site-packages/betfairlightweight/endpoints/login.py\", line 40, in request\n",
      "    raise APIError(None, exception='ConnectionError')\n",
      "betfairlightweight.exceptions.APIError: None \n",
      "Params: None \n",
      "Exception: ConnectionError\n"
     ]
    }
   ],
   "source": [
    "while dt.now() < end:\n",
    "    bot.poll_directory()\n",
    "    if not bot.in_market:\n",
    "        bot.assess_strategy(verbose=True)\n",
    "    bot.manage_trade()\n",
    "    \n",
    "print('END END END')"
   ]
  },
  {
   "cell_type": "code",
   "execution_count": null,
   "metadata": {},
   "outputs": [],
   "source": [
    "bot.stop()"
   ]
  },
  {
   "cell_type": "code",
   "execution_count": 241,
   "metadata": {},
   "outputs": [
    {
     "data": {
      "text/plain": [
       "<LogoutResource>"
      ]
     },
     "execution_count": 241,
     "metadata": {},
     "output_type": "execute_result"
    }
   ],
   "source": [
    "trading.logout()"
   ]
  },
  {
   "cell_type": "code",
   "execution_count": null,
   "metadata": {},
   "outputs": [],
   "source": []
  }
 ],
 "metadata": {
  "kernelspec": {
   "display_name": "betfair",
   "language": "python",
   "name": "betfair"
  },
  "language_info": {
   "codemirror_mode": {
    "name": "ipython",
    "version": 3
   },
   "file_extension": ".py",
   "mimetype": "text/x-python",
   "name": "python",
   "nbconvert_exporter": "python",
   "pygments_lexer": "ipython3",
   "version": "3.6.9"
  }
 },
 "nbformat": 4,
 "nbformat_minor": 4
}
