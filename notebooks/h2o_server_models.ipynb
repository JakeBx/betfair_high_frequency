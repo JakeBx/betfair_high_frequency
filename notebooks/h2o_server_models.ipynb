{
 "cells": [
  {
   "cell_type": "code",
   "execution_count": 1,
   "metadata": {},
   "outputs": [],
   "source": [
    "import h2o\n",
    "import os\n",
    "from tqdm.notebook import tqdm as pbar"
   ]
  },
  {
   "cell_type": "code",
   "execution_count": 2,
   "metadata": {},
   "outputs": [
    {
     "name": "stdout",
     "output_type": "stream",
     "text": [
      "Checking whether there is an H2O instance running at http://localhost:54321 . connected.\n"
     ]
    },
    {
     "data": {
      "text/html": [
       "<div style=\"overflow:auto\"><table style=\"width:50%\"><tr><td>H2O cluster uptime:</td>\n",
       "<td>5 hours 4 mins</td></tr>\n",
       "<tr><td>H2O cluster timezone:</td>\n",
       "<td>Australia/Sydney</td></tr>\n",
       "<tr><td>H2O data parsing timezone:</td>\n",
       "<td>UTC</td></tr>\n",
       "<tr><td>H2O cluster version:</td>\n",
       "<td>3.28.0.1</td></tr>\n",
       "<tr><td>H2O cluster version age:</td>\n",
       "<td>28 days, 21 hours and 25 minutes </td></tr>\n",
       "<tr><td>H2O cluster name:</td>\n",
       "<td>H2O_from_python_jake_wv0spt</td></tr>\n",
       "<tr><td>H2O cluster total nodes:</td>\n",
       "<td>1</td></tr>\n",
       "<tr><td>H2O cluster free memory:</td>\n",
       "<td>604 Mb</td></tr>\n",
       "<tr><td>H2O cluster total cores:</td>\n",
       "<td>8</td></tr>\n",
       "<tr><td>H2O cluster allowed cores:</td>\n",
       "<td>8</td></tr>\n",
       "<tr><td>H2O cluster status:</td>\n",
       "<td>locked, healthy</td></tr>\n",
       "<tr><td>H2O connection url:</td>\n",
       "<td>http://localhost:54321</td></tr>\n",
       "<tr><td>H2O connection proxy:</td>\n",
       "<td>{'http': None, 'https': None}</td></tr>\n",
       "<tr><td>H2O internal security:</td>\n",
       "<td>False</td></tr>\n",
       "<tr><td>H2O API Extensions:</td>\n",
       "<td>Amazon S3, XGBoost, Algos, AutoML, Core V3, TargetEncoder, Core V4</td></tr>\n",
       "<tr><td>Python version:</td>\n",
       "<td>3.6.9 final</td></tr></table></div>"
      ],
      "text/plain": [
       "--------------------------  ------------------------------------------------------------------\n",
       "H2O cluster uptime:         5 hours 4 mins\n",
       "H2O cluster timezone:       Australia/Sydney\n",
       "H2O data parsing timezone:  UTC\n",
       "H2O cluster version:        3.28.0.1\n",
       "H2O cluster version age:    28 days, 21 hours and 25 minutes\n",
       "H2O cluster name:           H2O_from_python_jake_wv0spt\n",
       "H2O cluster total nodes:    1\n",
       "H2O cluster free memory:    604 Mb\n",
       "H2O cluster total cores:    8\n",
       "H2O cluster allowed cores:  8\n",
       "H2O cluster status:         locked, healthy\n",
       "H2O connection url:         http://localhost:54321\n",
       "H2O connection proxy:       {'http': None, 'https': None}\n",
       "H2O internal security:      False\n",
       "H2O API Extensions:         Amazon S3, XGBoost, Algos, AutoML, Core V3, TargetEncoder, Core V4\n",
       "Python version:             3.6.9 final\n",
       "--------------------------  ------------------------------------------------------------------"
      ]
     },
     "metadata": {},
     "output_type": "display_data"
    }
   ],
   "source": [
    "h2o.init()\n",
    "# h2o.connect(url='https://34.69.98.204:443', auth=('h2oai', '2706511671374560073'), verify_ssl_certificates=False)"
   ]
  },
  {
   "cell_type": "code",
   "execution_count": 16,
   "metadata": {},
   "outputs": [],
   "source": [
    "model_list = h2o.ls()"
   ]
  },
  {
   "cell_type": "code",
   "execution_count": 17,
   "metadata": {},
   "outputs": [],
   "source": [
    "models = model_list[(model_list.key.str.contains('AutoML_20200114_141445'))&~(model_list.key.str.contains('modelmetrics'))]\n",
    "models = models.key.values.tolist()"
   ]
  },
  {
   "cell_type": "code",
   "execution_count": 19,
   "metadata": {},
   "outputs": [
    {
     "name": "stderr",
     "output_type": "stream",
     "text": [
      "/Users/jake/miniconda3/envs/betfair/lib/python3.6/site-packages/urllib3/connectionpool.py:1004: InsecureRequestWarning: Unverified HTTPS request is being made. Adding certificate verification is strongly advised. See: https://urllib3.readthedocs.io/en/latest/advanced-usage.html#ssl-warnings\n",
      "  InsecureRequestWarning,\n"
     ]
    }
   ],
   "source": [
    "lb = h2o.get_frame('AutoML_Leaderboard_bfhft_new_002')"
   ]
  },
  {
   "cell_type": "code",
   "execution_count": 13,
   "metadata": {},
   "outputs": [],
   "source": [
    "lb = \"\"\"\n",
    "0\tXRT_1_AutoML_20200109_105830\t0.5660766976837769\t0.6883581231427429\t0.49955140132992915\t0.49745804406098104\t0.24746450560097696\n",
    "1\tGLM_grid_1_AutoML_20200109_105830_model_1\t0.5652152350167972\t0.688302647409347\t0.4997358275172114\t0.49737207330302385\t0.24737897930174851\n",
    "\"\"\""
   ]
  },
  {
   "cell_type": "code",
   "execution_count": 14,
   "metadata": {},
   "outputs": [],
   "source": [
    "models = [x.split('\\t')[1] for x in lb.split('\\n') if x != '']"
   ]
  },
  {
   "cell_type": "code",
   "execution_count": 15,
   "metadata": {},
   "outputs": [
    {
     "data": {
      "text/plain": [
       "['XRT_1_AutoML_20200109_105830', 'GLM_grid_1_AutoML_20200109_105830_model_1']"
      ]
     },
     "execution_count": 15,
     "metadata": {},
     "output_type": "execute_result"
    }
   ],
   "source": [
    "models"
   ]
  },
  {
   "cell_type": "code",
   "execution_count": 16,
   "metadata": {},
   "outputs": [],
   "source": [
    "# m = 'DRF_1_AutoML_20200105_104316'\n",
    "# model = h2o.get_model(m)\n",
    "# model.download_mojo(path=f\"../models/{m}\", get_genmodel_jar=True)"
   ]
  },
  {
   "cell_type": "code",
   "execution_count": 11,
   "metadata": {},
   "outputs": [
    {
     "data": {
      "text/html": [
       "<div>\n",
       "<style scoped>\n",
       "    .dataframe tbody tr th:only-of-type {\n",
       "        vertical-align: middle;\n",
       "    }\n",
       "\n",
       "    .dataframe tbody tr th {\n",
       "        vertical-align: top;\n",
       "    }\n",
       "\n",
       "    .dataframe thead th {\n",
       "        text-align: right;\n",
       "    }\n",
       "</style>\n",
       "<table border=\"1\" class=\"dataframe\">\n",
       "  <thead>\n",
       "    <tr style=\"text-align: right;\">\n",
       "      <th></th>\n",
       "      <th>key</th>\n",
       "    </tr>\n",
       "  </thead>\n",
       "  <tbody>\n",
       "    <tr>\n",
       "      <th>9</th>\n",
       "      <td>DRF_1_AutoML_20200114_141445</td>\n",
       "    </tr>\n",
       "    <tr>\n",
       "      <th>12</th>\n",
       "      <td>GBM_1_AutoML_20200114_141445</td>\n",
       "    </tr>\n",
       "    <tr>\n",
       "      <th>14</th>\n",
       "      <td>GBM_2_AutoML_20200114_141445</td>\n",
       "    </tr>\n",
       "    <tr>\n",
       "      <th>16</th>\n",
       "      <td>GBM_3_AutoML_20200114_141445</td>\n",
       "    </tr>\n",
       "    <tr>\n",
       "      <th>18</th>\n",
       "      <td>GBM_4_AutoML_20200114_141445</td>\n",
       "    </tr>\n",
       "    <tr>\n",
       "      <th>20</th>\n",
       "      <td>GBM_5_AutoML_20200114_141445</td>\n",
       "    </tr>\n",
       "    <tr>\n",
       "      <th>22</th>\n",
       "      <td>GLM_1_AutoML_20200114_141445</td>\n",
       "    </tr>\n",
       "    <tr>\n",
       "      <th>26</th>\n",
       "      <td>XGBoost_1_AutoML_20200114_141445</td>\n",
       "    </tr>\n",
       "    <tr>\n",
       "      <th>28</th>\n",
       "      <td>XGBoost_2_AutoML_20200114_141445</td>\n",
       "    </tr>\n",
       "    <tr>\n",
       "      <th>30</th>\n",
       "      <td>XGBoost_3_AutoML_20200114_141445</td>\n",
       "    </tr>\n",
       "  </tbody>\n",
       "</table>\n",
       "</div>"
      ],
      "text/plain": [
       "                                 key\n",
       "9       DRF_1_AutoML_20200114_141445\n",
       "12      GBM_1_AutoML_20200114_141445\n",
       "14      GBM_2_AutoML_20200114_141445\n",
       "16      GBM_3_AutoML_20200114_141445\n",
       "18      GBM_4_AutoML_20200114_141445\n",
       "20      GBM_5_AutoML_20200114_141445\n",
       "22      GLM_1_AutoML_20200114_141445\n",
       "26  XGBoost_1_AutoML_20200114_141445\n",
       "28  XGBoost_2_AutoML_20200114_141445\n",
       "30  XGBoost_3_AutoML_20200114_141445"
      ]
     },
     "execution_count": 11,
     "metadata": {},
     "output_type": "execute_result"
    }
   ],
   "source": [
    "models"
   ]
  },
  {
   "cell_type": "code",
   "execution_count": 15,
   "metadata": {},
   "outputs": [
    {
     "data": {
      "text/plain": [
       "['DRF_1_AutoML_20200114_141445',\n",
       " 'GBM_1_AutoML_20200114_141445',\n",
       " 'GBM_2_AutoML_20200114_141445',\n",
       " 'GBM_3_AutoML_20200114_141445',\n",
       " 'GBM_4_AutoML_20200114_141445',\n",
       " 'GBM_5_AutoML_20200114_141445',\n",
       " 'GLM_1_AutoML_20200114_141445',\n",
       " 'XGBoost_1_AutoML_20200114_141445',\n",
       " 'XGBoost_2_AutoML_20200114_141445',\n",
       " 'XGBoost_3_AutoML_20200114_141445']"
      ]
     },
     "execution_count": 15,
     "metadata": {},
     "output_type": "execute_result"
    }
   ],
   "source": []
  },
  {
   "cell_type": "code",
   "execution_count": 18,
   "metadata": {},
   "outputs": [
    {
     "data": {
      "application/vnd.jupyter.widget-view+json": {
       "model_id": "4a4ffcb6719042569630f3112829c10c",
       "version_major": 2,
       "version_minor": 0
      },
      "text/plain": [
       "HBox(children=(FloatProgress(value=0.0, max=10.0), HTML(value='')))"
      ]
     },
     "metadata": {},
     "output_type": "display_data"
    },
    {
     "name": "stdout",
     "output_type": "stream",
     "text": [
      "DRF_1_AutoML_20200114_141445\n",
      "GBM_1_AutoML_20200114_141445\n",
      "GBM_2_AutoML_20200114_141445\n",
      "GBM_3_AutoML_20200114_141445\n",
      "GBM_4_AutoML_20200114_141445\n",
      "GBM_5_AutoML_20200114_141445\n",
      "GLM_1_AutoML_20200114_141445\n",
      "XGBoost_1_AutoML_20200114_141445\n",
      "XGBoost_2_AutoML_20200114_141445\n",
      "XGBoost_3_AutoML_20200114_141445\n",
      "\n"
     ]
    }
   ],
   "source": [
    "for m in pbar(models, '', len(models)):\n",
    "#     os.mkdir(f'../models/bsp/with_track_{m}')\n",
    "    print(m)\n",
    "    model = h2o.get_model(m)\n",
    "    model.download_mojo(path=f\"../models/bsp/{m}\", get_genmodel_jar=True)"
   ]
  },
  {
   "cell_type": "code",
   "execution_count": 47,
   "metadata": {},
   "outputs": [],
   "source": [
    "# help(h2o)"
   ]
  },
  {
   "cell_type": "code",
   "execution_count": null,
   "metadata": {},
   "outputs": [],
   "source": []
  }
 ],
 "metadata": {
  "kernelspec": {
   "display_name": "betfair",
   "language": "python",
   "name": "betfair"
  },
  "language_info": {
   "codemirror_mode": {
    "name": "ipython",
    "version": 3
   },
   "file_extension": ".py",
   "mimetype": "text/x-python",
   "name": "python",
   "nbconvert_exporter": "python",
   "pygments_lexer": "ipython3",
   "version": "3.6.9"
  }
 },
 "nbformat": 4,
 "nbformat_minor": 4
}
