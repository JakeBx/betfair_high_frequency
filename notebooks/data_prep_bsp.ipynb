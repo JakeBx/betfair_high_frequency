{
 "cells": [
  {
   "cell_type": "code",
   "execution_count": 1,
   "metadata": {},
   "outputs": [],
   "source": [
    "%load_ext autoreload\n",
    "%autoreload 2"
   ]
  },
  {
   "cell_type": "code",
   "execution_count": 2,
   "metadata": {},
   "outputs": [],
   "source": [
    "import sys\n",
    "sys.path.append(\"..\")"
   ]
  },
  {
   "cell_type": "code",
   "execution_count": 3,
   "metadata": {},
   "outputs": [],
   "source": [
    "import bz2\n",
    "import json\n",
    "import datetime\n",
    "from datetime import datetime as dt\n",
    "from collections import defaultdict\n",
    "from itertools import product\n",
    "import pandas as pd\n",
    "import numpy as np\n",
    "import os\n",
    "from tqdm.notebook import tqdm as pbar\n",
    "from utils import tick_delta, dollars_to_ticks\n",
    "import pickle as p"
   ]
  },
  {
   "cell_type": "markdown",
   "metadata": {},
   "source": [
    "### Todo\n",
    "\n",
    "1. [ ] Extract timestamp per tick\n",
    "1. [ ] Extract batl, batb\n",
    "1. [ ] Extract volume off ticks\n",
    "1. [ ] Extract bsp"
   ]
  },
  {
   "cell_type": "code",
   "execution_count": 4,
   "metadata": {},
   "outputs": [],
   "source": [
    "def int_dict():\n",
    "    return defaultdict(int)\n",
    "\n",
    "def double_d():\n",
    "    return defaultdict(dict)"
   ]
  },
  {
   "cell_type": "code",
   "execution_count": 5,
   "metadata": {},
   "outputs": [],
   "source": [
    "def parse_entries(entries):\n",
    "    batl = []\n",
    "    batb = []\n",
    "    batl_v = {}\n",
    "    batb_v = {}\n",
    "    for n in range(6):\n",
    "        batl_v[n] = []\n",
    "        batb_v[n] = []\n",
    "            \n",
    "    mrkts = []\n",
    "    times = []\n",
    "    sids = []\n",
    "    tot_vols = []\n",
    "    in_play = []\n",
    "    mean_trd = []\n",
    "    mrkt_inplay = {}\n",
    "    tvs = defaultdict(int_dict)\n",
    "    back_ladder = defaultdict(double_d)\n",
    "    lay_ladder = defaultdict(double_d)\n",
    "    trd_ladder = defaultdict(int_dict)\n",
    "\n",
    "    market_defs = []\n",
    "    market_defs_ids = []\n",
    "    \n",
    "    for entry in entries: # should be map\n",
    "            ts = entry['pt']\n",
    "            change_sids = []\n",
    "            change_mids = []\n",
    "            for rc in entry['mc']:\n",
    "                if 'marketDefinition' in rc.keys():\n",
    "                    play_mid = rc['id']\n",
    "                    mrkt_inplay[play_mid] = rc['marketDefinition']['inPlay']\n",
    "                    market_defs. append(rc['marketDefinition'])\n",
    "                    market_defs_ids.append(rc['id'])\n",
    "                if 'rc' in rc.keys():\n",
    "                    mid = rc['id']\n",
    "                    for change in rc['rc']:\n",
    "                        sid = change['id']\n",
    "                        change_sids.append(sid)\n",
    "                        change_mids.append(mid)\n",
    "                        keys = change.keys()\n",
    "                        if 'atb' in keys:\n",
    "                            for prc, vol in change['atb']:\n",
    "                                back_ladder[mid][sid][prc] = vol\n",
    "                        if 'atl' in keys:\n",
    "                            for prc, vol in change['atl']:\n",
    "                                lay_ladder[mid][sid][prc] = vol\n",
    "                        if 'trd' in keys:\n",
    "                            for prc, vol in change['trd']:\n",
    "                                trd_ladder[sid][prc] += vol\n",
    "            for sid, mid in zip(change_sids, change_mids):\n",
    "                cur_batl = min([1000] + [k for k, v in lay_ladder[mid][sid].items() if v > 1])\n",
    "                cur_batb = max([0] + [k for k, v in back_ladder[mid][sid].items() if v > 1])\n",
    "                if cur_batl < 10 and cur_batb > 0:\n",
    "                    tot_vol = 0\n",
    "                    agg_vol = 0\n",
    "                    for p, v in trd_ladder[sid].items():\n",
    "                        agg_vol += float(p) * v\n",
    "                        tot_vol += v\n",
    "                    if tot_vol > 500:\n",
    "                        mean_price = agg_vol / tot_vol if tot_vol > 1 else 0\n",
    "                        mean_trd.append(mean_price)\n",
    "                        times.append(ts)\n",
    "                        sids.append(sid)\n",
    "                        mrkts.append(mid)\n",
    "                        batl.append(cur_batl)\n",
    "                        batb.append(cur_batb)\n",
    "                        for n in range(6):\n",
    "                            adj_batl = tick_delta(cur_batl, n)\n",
    "                            adj_batb = tick_delta(cur_batb, -n)\n",
    "                            if adj_batl in lay_ladder[mid][sid].keys():\n",
    "                                batl_v[n].append(lay_ladder[mid][sid][adj_batl])\n",
    "                            else:\n",
    "                                batl_v[n].append(None)\n",
    "                            if adj_batb in back_ladder[mid][sid].keys():\n",
    "                                batb_v[n].append(back_ladder[mid][sid][adj_batb])\n",
    "                            else:\n",
    "                                batb_v[n].append(None)\n",
    "                        tot_vols.append(tot_vol)\n",
    "                        in_play.append(mrkt_inplay[mid])\n",
    "\n",
    "    df = pd.DataFrame({'timestamp': times, \n",
    "               'market_id': mrkts, \n",
    "               'sid': sids, \n",
    "               'batl': batl, \n",
    "               'batb': batb, \n",
    "               'batl_v': batl_v[0], \n",
    "               'batb_v': batb_v[0],\n",
    "               'batl_v_1': batl_v[1], \n",
    "               'batb_v_1': batb_v[1], \n",
    "               'batl_v_2': batl_v[2], \n",
    "               'batb_v_2': batb_v[2], \n",
    "               'batl_v_3': batl_v[3], \n",
    "               'batb_v_3': batb_v[3], \n",
    "               'batl_v_4': batl_v[4], \n",
    "               'batb_v_4': batb_v[4], \n",
    "               'batl_v_5': batl_v[5], \n",
    "               'batb_v_5': batb_v[5], \n",
    "               'tot_vol': tot_vols,\n",
    "                'mean_trd': mean_trd,\n",
    "                'in_play': in_play})\n",
    "    \n",
    "    mrkt_def = pd.DataFrame(market_defs)\n",
    "    mrkt_def['market_id'] = market_defs_ids\n",
    "    \n",
    "    return df, mrkt_def"
   ]
  },
  {
   "cell_type": "code",
   "execution_count": 6,
   "metadata": {},
   "outputs": [],
   "source": [
    "run_id = dt.now().strftime('%m%d')\n",
    "year = '2019'\n",
    "month = 'Dec'\n",
    "stem_path = '/Users/jake/Downloads/PRO 3/2019/Dec/'\n",
    "gcloud_path = 'gs://h2o_temp/dev_sets/'\n",
    "\n",
    "days = [x for x in os.listdir(stem_path) if len(x) <= 2]#[:2] # limit to first two days\n",
    "final_paths = {}\n",
    "for day in days:\n",
    "    for fld in os.listdir(os.path.join(stem_path, day)):\n",
    "        try:\n",
    "            int(fld) # shit house validity check\n",
    "            each_folder = os.path.join(stem_path, day, fld)\n",
    "            for fn in os.listdir(each_folder):\n",
    "                if '1.' in fn and fn.split('.')[-1] == 'bz2':\n",
    "                    final_paths[fn] = os.path.join(stem_path, day, fld, fn)\n",
    "        except:\n",
    "            print(f'failed on {fld}')"
   ]
  },
  {
   "cell_type": "code",
   "execution_count": 7,
   "metadata": {},
   "outputs": [
    {
     "data": {
      "text/plain": [
       "4622"
      ]
     },
     "execution_count": 7,
     "metadata": {},
     "output_type": "execute_result"
    }
   ],
   "source": [
    "dir_path = f'../data/prepared/{run_id}_{year}_{month}'\n",
    "if not os.path.exists(dir_path):\n",
    "    os.mkdir(dir_path)\n",
    "    \n",
    "count = len(final_paths.keys())\n",
    "count"
   ]
  },
  {
   "cell_type": "code",
   "execution_count": 8,
   "metadata": {},
   "outputs": [
    {
     "data": {
      "application/vnd.jupyter.widget-view+json": {
       "model_id": "7df7de4ce4764e1c8198fae186de8e35",
       "version_major": 2,
       "version_minor": 0
      },
      "text/plain": [
       "HBox(children=(FloatProgress(value=0.0, max=4622.0), HTML(value='')))"
      ]
     },
     "metadata": {},
     "output_type": "display_data"
    },
    {
     "name": "stdout",
     "output_type": "stream",
     "text": [
      "\n"
     ]
    }
   ],
   "source": [
    "keep_cols = ['market_id', 'eventId', 'eventTypeId', 'numberOfWinners','bettingType', 'marketType', 'marketTime', 'name', 'eventName']\n",
    "\n",
    "dfs = []\n",
    "defs = []\n",
    "for k, v in pbar(final_paths.items(), '', count):\n",
    "    try:\n",
    "        fn = v\n",
    "        if os.path.exists(os.path.join(dir_path, f'{k}.csv')):\n",
    "            continue\n",
    "\n",
    "        entries = []\n",
    "        with bz2.open(fn, mode='r') as f:\n",
    "            for line in f.readlines():\n",
    "                entries.append(json.loads(line))\n",
    "\n",
    "        df, mrkt_def = parse_entries(entries)\n",
    "        runner_frame = pd.DataFrame(mrkt_def.runners.values[-1])\n",
    "        runner_frame.rename({'id':'sid'}, axis=1, inplace=True)\n",
    "\n",
    "        df = df.groupby(['timestamp','market_id', 'sid']).last().reset_index()\n",
    "        df.timestamp = df.timestamp // 1000\n",
    "        df.timestamp = df.timestamp.apply(dt.fromtimestamp)\n",
    "        df.timestamp = pd.to_datetime(df.timestamp)\n",
    "        df = df.merge(runner_frame[['sid', 'bsp']], on='sid', how='left')\n",
    "\n",
    "        mrkt_def = mrkt_def[keep_cols]\n",
    "        mrkt_def.drop_duplicates(inplace=True)\n",
    "        mrkt_def = mrkt_def[(mrkt_def.marketType=='WIN')]\n",
    "        mrkt_def.marketTime = pd.to_datetime(mrkt_def.marketTime)\n",
    "        mrkt_def.marketTime += np.timedelta64(10,'h')\n",
    "\n",
    "        df = df.merge(mrkt_def, on='market_id', how='inner')\n",
    "        df['test_starttime'] = df.marketTime.dt.tz_convert(None)\n",
    "        df['test_recordtime'] = df.test_starttime - np.timedelta64(20,'m')\n",
    "        df = df[(df.timestamp < df.test_starttime) & (df.timestamp > df.test_recordtime)]\n",
    "\n",
    "        df.to_csv(os.path.join(dir_path, f'{k}.csv'), index=False)\n",
    "    \n",
    "    except:\n",
    "        continue"
   ]
  },
  {
   "cell_type": "code",
   "execution_count": null,
   "metadata": {},
   "outputs": [],
   "source": []
  }
 ],
 "metadata": {
  "kernelspec": {
   "display_name": "betfair",
   "language": "python",
   "name": "betfair"
  },
  "language_info": {
   "codemirror_mode": {
    "name": "ipython",
    "version": 3
   },
   "file_extension": ".py",
   "mimetype": "text/x-python",
   "name": "python",
   "nbconvert_exporter": "python",
   "pygments_lexer": "ipython3",
   "version": "3.6.9"
  }
 },
 "nbformat": 4,
 "nbformat_minor": 4
}
