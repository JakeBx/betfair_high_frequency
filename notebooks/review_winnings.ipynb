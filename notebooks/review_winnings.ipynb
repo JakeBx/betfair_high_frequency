{
 "cells": [
  {
   "cell_type": "code",
   "execution_count": 1,
   "metadata": {},
   "outputs": [],
   "source": [
    "import pandas as pd"
   ]
  },
  {
   "cell_type": "code",
   "execution_count": 20,
   "metadata": {},
   "outputs": [],
   "source": [
    "df = pd.read_csv('/Users/jake/Downloads/ExchangeBets_Settled(10).csv')"
   ]
  },
  {
   "cell_type": "code",
   "execution_count": 21,
   "metadata": {},
   "outputs": [
    {
     "data": {
      "text/html": [
       "<div>\n",
       "<style scoped>\n",
       "    .dataframe tbody tr th:only-of-type {\n",
       "        vertical-align: middle;\n",
       "    }\n",
       "\n",
       "    .dataframe tbody tr th {\n",
       "        vertical-align: top;\n",
       "    }\n",
       "\n",
       "    .dataframe thead th {\n",
       "        text-align: right;\n",
       "    }\n",
       "</style>\n",
       "<table border=\"1\" class=\"dataframe\">\n",
       "  <thead>\n",
       "    <tr style=\"text-align: right;\">\n",
       "      <th></th>\n",
       "      <th>Settled</th>\n",
       "      <th>Description</th>\n",
       "      <th>Type</th>\n",
       "      <th>Odds</th>\n",
       "      <th>Stake (AUD)</th>\n",
       "      <th>Liability (AUD)</th>\n",
       "      <th>Profit/Loss (AUD)</th>\n",
       "      <th>Status</th>\n",
       "    </tr>\n",
       "  </thead>\n",
       "  <tbody>\n",
       "    <tr>\n",
       "      <th>0</th>\n",
       "      <td>15-Jan-20 16:08:22</td>\n",
       "      <td>16:05 Warwick Farm 3. Come Along-Win | Betfair...</td>\n",
       "      <td>Back</td>\n",
       "      <td>3.55</td>\n",
       "      <td>0.03</td>\n",
       "      <td>--</td>\n",
       "      <td>-0.03</td>\n",
       "      <td>Lost</td>\n",
       "    </tr>\n",
       "    <tr>\n",
       "      <th>1</th>\n",
       "      <td>15-Jan-20 16:08:22</td>\n",
       "      <td>16:05 Warwick Farm 3. Come Along-Win | Betfair...</td>\n",
       "      <td>Back</td>\n",
       "      <td>3.40</td>\n",
       "      <td>0.03</td>\n",
       "      <td>--</td>\n",
       "      <td>-0.03</td>\n",
       "      <td>Lost</td>\n",
       "    </tr>\n",
       "    <tr>\n",
       "      <th>2</th>\n",
       "      <td>15-Jan-20 16:08:22</td>\n",
       "      <td>16:05 Warwick Farm 3. Come Along-Win | Betfair...</td>\n",
       "      <td>Back</td>\n",
       "      <td>3.25</td>\n",
       "      <td>0.03</td>\n",
       "      <td>--</td>\n",
       "      <td>-0.03</td>\n",
       "      <td>Lost</td>\n",
       "    </tr>\n",
       "    <tr>\n",
       "      <th>3</th>\n",
       "      <td>15-Jan-20 16:08:22</td>\n",
       "      <td>16:05 Warwick Farm 3. Come Along-Win | Betfair...</td>\n",
       "      <td>Back</td>\n",
       "      <td>3.35</td>\n",
       "      <td>0.03</td>\n",
       "      <td>--</td>\n",
       "      <td>-0.03</td>\n",
       "      <td>Lost</td>\n",
       "    </tr>\n",
       "    <tr>\n",
       "      <th>4</th>\n",
       "      <td>15-Jan-20 16:08:22</td>\n",
       "      <td>16:05 Warwick Farm 3. Come Along-Win | Betfair...</td>\n",
       "      <td>Back</td>\n",
       "      <td>3.25</td>\n",
       "      <td>0.03</td>\n",
       "      <td>--</td>\n",
       "      <td>-0.03</td>\n",
       "      <td>Lost</td>\n",
       "    </tr>\n",
       "  </tbody>\n",
       "</table>\n",
       "</div>"
      ],
      "text/plain": [
       "              Settled                                        Description  \\\n",
       "0  15-Jan-20 16:08:22  16:05 Warwick Farm 3. Come Along-Win | Betfair...   \n",
       "1  15-Jan-20 16:08:22  16:05 Warwick Farm 3. Come Along-Win | Betfair...   \n",
       "2  15-Jan-20 16:08:22  16:05 Warwick Farm 3. Come Along-Win | Betfair...   \n",
       "3  15-Jan-20 16:08:22  16:05 Warwick Farm 3. Come Along-Win | Betfair...   \n",
       "4  15-Jan-20 16:08:22  16:05 Warwick Farm 3. Come Along-Win | Betfair...   \n",
       "\n",
       "   Type  Odds  Stake (AUD) Liability (AUD)  Profit/Loss (AUD) Status  \n",
       "0  Back  3.55         0.03             --               -0.03   Lost  \n",
       "1  Back  3.40         0.03             --               -0.03   Lost  \n",
       "2  Back  3.25         0.03             --               -0.03   Lost  \n",
       "3  Back  3.35         0.03             --               -0.03   Lost  \n",
       "4  Back  3.25         0.03             --               -0.03   Lost  "
      ]
     },
     "execution_count": 21,
     "metadata": {},
     "output_type": "execute_result"
    }
   ],
   "source": [
    "df.head()"
   ]
  },
  {
   "cell_type": "code",
   "execution_count": 22,
   "metadata": {},
   "outputs": [],
   "source": [
    "df.dropna(inplace=True)"
   ]
  },
  {
   "cell_type": "code",
   "execution_count": 23,
   "metadata": {},
   "outputs": [],
   "source": [
    "df.Description = df.Description.apply(lambda x: x[:20])"
   ]
  },
  {
   "cell_type": "code",
   "execution_count": 24,
   "metadata": {},
   "outputs": [
    {
     "name": "stderr",
     "output_type": "stream",
     "text": [
      "/Users/jake/miniconda3/envs/betfair/lib/python3.6/site-packages/pandas/core/strings.py:1843: UserWarning: This pattern has match groups. To actually get the groups, use str.extract.\n",
      "  return func(self, *args, **kwargs)\n"
     ]
    }
   ],
   "source": [
    "df['valid'] = (df.Type=='Lay')&(df.Odds.str.contains('(BSP)'))"
   ]
  },
  {
   "cell_type": "code",
   "execution_count": 25,
   "metadata": {},
   "outputs": [],
   "source": [
    "# df = df[df.Settled.str.contains('13-Jan-20')]"
   ]
  },
  {
   "cell_type": "code",
   "execution_count": 26,
   "metadata": {},
   "outputs": [],
   "source": [
    "df.Odds = df.Odds.str.strip(' (BSP)')\n",
    "df.Odds = df.Odds.astype('float')"
   ]
  },
  {
   "cell_type": "code",
   "execution_count": 27,
   "metadata": {},
   "outputs": [],
   "source": [
    "temp_df = df[['Description', 'valid', 'Settled']].groupby('Description').max()\n",
    "# temp_df['n'] = list(range(len(temp_df)))"
   ]
  },
  {
   "cell_type": "code",
   "execution_count": 28,
   "metadata": {},
   "outputs": [],
   "source": [
    "df = df.groupby(['Description', 'Type']).agg({'Odds':'mean', 'Stake (AUD)':'sum', 'valid':'max'}).reset_index()"
   ]
  },
  {
   "cell_type": "code",
   "execution_count": 29,
   "metadata": {},
   "outputs": [],
   "source": [
    "df = df.pivot(index='Description', columns='Type', values=['Odds', 'Stake (AUD)'])"
   ]
  },
  {
   "cell_type": "code",
   "execution_count": 30,
   "metadata": {},
   "outputs": [],
   "source": [
    "df.columns = [x+y for x, y in df.columns]"
   ]
  },
  {
   "cell_type": "code",
   "execution_count": 31,
   "metadata": {},
   "outputs": [],
   "source": [
    "df = df.join(temp_df)"
   ]
  },
  {
   "cell_type": "code",
   "execution_count": 32,
   "metadata": {},
   "outputs": [],
   "source": [
    "df['n_bets'] =  df['Stake (AUD)Back'] / 0.03"
   ]
  },
  {
   "cell_type": "code",
   "execution_count": 33,
   "metadata": {},
   "outputs": [],
   "source": [
    "df['potential'] = df.OddsBack - 1\n",
    "df['liability_sz'] = (df.potential / (df.OddsLay-1)) - 1\n",
    "\n",
    "df['profit_ev'] = df.liability_sz * (1 - 1/df.OddsLay)\n",
    "df['profit_ev'] = df[['profit_ev', 'liability_sz']].min(axis=1)\n",
    "df.profit_ev *= df.n_bets"
   ]
  },
  {
   "cell_type": "code",
   "execution_count": 34,
   "metadata": {},
   "outputs": [],
   "source": [
    "df = df[df.valid==True]"
   ]
  },
  {
   "cell_type": "code",
   "execution_count": 35,
   "metadata": {},
   "outputs": [
    {
     "data": {
      "text/plain": [
       "0.7392255735085027"
      ]
     },
     "execution_count": 35,
     "metadata": {},
     "output_type": "execute_result"
    }
   ],
   "source": [
    "df.profit_ev.sum()"
   ]
  },
  {
   "cell_type": "code",
   "execution_count": 36,
   "metadata": {},
   "outputs": [
    {
     "data": {
      "text/plain": [
       "<matplotlib.axes._subplots.AxesSubplot at 0x1156b2438>"
      ]
     },
     "execution_count": 36,
     "metadata": {},
     "output_type": "execute_result"
    },
    {
     "data": {
      "image/png": "[encoded data removed]",
      "text/plain": [
       "<Figure size 432x288 with 1 Axes>"
      ]
     },
     "metadata": {
      "needs_background": "light"
     },
     "output_type": "display_data"
    }
   ],
   "source": [
    "df.set_index('Settled').sort_index().profit_ev.cumsum().plot()"
   ]
  },
  {
   "cell_type": "code",
   "execution_count": 37,
   "metadata": {},
   "outputs": [
    {
     "name": "stderr",
     "output_type": "stream",
     "text": [
      "/Users/jake/miniconda3/envs/betfair/lib/python3.6/site-packages/ipykernel_launcher.py:1: FutureWarning: `Series.plot()` should not be called with positional arguments, only keyword arguments. The order of positional arguments will change in the future. Use `Series.plot(kind='bar')` instead of `Series.plot('bar',)`.\n",
      "  \"\"\"Entry point for launching an IPython kernel.\n"
     ]
    },
    {
     "data": {
      "text/plain": [
       "<matplotlib.axes._subplots.AxesSubplot at 0x115779588>"
      ]
     },
     "execution_count": 37,
     "metadata": {},
     "output_type": "execute_result"
    },
    {
     "data": {
      "image/png": "[encoded data removed]",
      "text/plain": [
       "<Figure size 432x288 with 1 Axes>"
      ]
     },
     "metadata": {
      "needs_background": "light"
     },
     "output_type": "display_data"
    }
   ],
   "source": [
    "df.set_index('Settled').sort_index().profit_ev.plot('bar')"
   ]
  },
  {
   "cell_type": "code",
   "execution_count": 38,
   "metadata": {},
   "outputs": [
    {
     "data": {
      "text/plain": [
       "0.021120730671671507"
      ]
     },
     "execution_count": 38,
     "metadata": {},
     "output_type": "execute_result"
    }
   ],
   "source": [
    "df.profit_ev.mean()"
   ]
  },
  {
   "cell_type": "code",
   "execution_count": 39,
   "metadata": {},
   "outputs": [
    {
     "data": {
      "text/plain": [
       "0.7392255735085027"
      ]
     },
     "execution_count": 39,
     "metadata": {},
     "output_type": "execute_result"
    }
   ],
   "source": [
    "df.profit_ev.sum()"
   ]
  },
  {
   "cell_type": "code",
   "execution_count": null,
   "metadata": {},
   "outputs": [],
   "source": []
  }
 ],
 "metadata": {
  "kernelspec": {
   "display_name": "betfair",
   "language": "python",
   "name": "betfair"
  },
  "language_info": {
   "codemirror_mode": {
    "name": "ipython",
    "version": 3
   },
   "file_extension": ".py",
   "mimetype": "text/x-python",
   "name": "python",
   "nbconvert_exporter": "python",
   "pygments_lexer": "ipython3",
   "version": "3.6.9"
  }
 },
 "nbformat": 4,
 "nbformat_minor": 4
}
