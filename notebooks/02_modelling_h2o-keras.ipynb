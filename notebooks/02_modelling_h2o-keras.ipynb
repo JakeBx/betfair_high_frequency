{
 "cells": [
  {
   "cell_type": "code",
   "execution_count": null,
   "metadata": {},
   "outputs": [],
   "source": [
    "# !gcloud beta deployment-manager deployments create my-first-deployment --config vm.yaml --create-policy CREATE"
   ]
  },
  {
   "cell_type": "code",
   "execution_count": 14,
   "metadata": {},
   "outputs": [
    {
     "data": {
      "text/plain": [
       "'0105'"
      ]
     },
     "execution_count": 14,
     "metadata": {},
     "output_type": "execute_result"
    }
   ],
   "source": [
    "dt.now().strftime('%m%d')"
   ]
  },
  {
   "cell_type": "code",
   "execution_count": 3,
   "metadata": {},
   "outputs": [],
   "source": [
    "from datetime import datetime as dt"
   ]
  },
  {
   "cell_type": "code",
   "execution_count": null,
   "metadata": {},
   "outputs": [],
   "source": [
    "import pandas as pd\n",
    "# import tensorflow.keras as keras\n",
    "import os\n",
    "from tqdm.notebook import tqdm as pbar\n",
    "from plotly import express as px\n",
    "from utils import plot, dollars_to_ticks\n",
    "import numpy as np"
   ]
  },
  {
   "cell_type": "code",
   "execution_count": null,
   "metadata": {},
   "outputs": [],
   "source": [
    "import h2o\n",
    "from h2o.automl import H2OAutoML"
   ]
  },
  {
   "cell_type": "code",
   "execution_count": null,
   "metadata": {},
   "outputs": [],
   "source": [
    "# annoying ssl warning (its insecure!)\n",
    "import warnings\n",
    "warnings.filterwarnings('ignore')"
   ]
  },
  {
   "cell_type": "code",
   "execution_count": null,
   "metadata": {},
   "outputs": [],
   "source": [
    "pd.set_option('display.max_columns', 500)"
   ]
  },
  {
   "cell_type": "code",
   "execution_count": null,
   "metadata": {},
   "outputs": [],
   "source": [
    "!gsutil cp ./analysis_sets/2019_Oct_trimmed.csv gs://temp_h2o/test.csv"
   ]
  },
  {
   "cell_type": "code",
   "execution_count": null,
   "metadata": {},
   "outputs": [],
   "source": [
    "df = pd.read_csv('analysis_sets/2019_Oct_trimmed.csv')\n",
    "df.shape"
   ]
  },
  {
   "cell_type": "code",
   "execution_count": null,
   "metadata": {},
   "outputs": [],
   "source": [
    "df.head()"
   ]
  },
  {
   "cell_type": "markdown",
   "metadata": {},
   "source": [
    "### Feature Eng\n",
    "\n",
    "Working up:\n",
    "\n",
    "* trailing features (shift)\n",
    "* target for classification (expanding)\n",
    "* trailing features (rolling)\n",
    "* convert to ticks\n",
    "* feature normalisation (pratical time series)\n",
    "* vol norms by risk\n",
    "* conv net + lstm\n",
    "\n",
    "Notes:\n",
    "\n",
    "* The event location is a potential feature as different meets may behave similairly, likewise the race number and the day of the meet - you will need more data for this though."
   ]
  },
  {
   "cell_type": "code",
   "execution_count": null,
   "metadata": {},
   "outputs": [],
   "source": [
    "df.fillna(0, inplace=True)\n",
    "\n",
    "keep_cols = ['timestamp', 'market_id', 'sid', 'batl', 'batb', 'batl_v', 'batb_v',\n",
    "       'batl_v_1', 'batb_v_1', 'batl_v_2', 'batb_v_2', 'batl_v_3', 'batb_v_3',\n",
    "       'batl_v_4', 'batb_v_4', 'batl_v_5', 'batb_v_5', 'tot_vol', 'mean_trd']\n",
    "\n",
    "df = df[keep_cols]\n",
    "\n",
    "df['mid'] = (df.batb + df.batl) / 2\n",
    "\n",
    "price_cols = ['batl', 'batb', 'mean_trd', 'mid']\n",
    "for c in price_cols:\n",
    "    df[f'{c}_ticks'] = df[c].apply(dollars_to_ticks)\n",
    "\n",
    "df['spread'] = df.batl_ticks - df.batb_ticks\n",
    "\n",
    "df['diff'] = df.groupby(['market_id', 'sid']).mid_ticks.diff().cumsum()\n",
    "\n",
    "# temp = df[df.spread==1]\n",
    "df['diff_ticks'] = df.groupby(['market_id', 'sid']).mid_ticks.diff()\n",
    "df['diff_ticks'] = df.groupby(['market_id', 'sid']).diff_ticks.cumsum()\n",
    "\n",
    "df['trade_cnt'] = 1\n",
    "df['trade_cnt'] = df.groupby(['market_id', 'sid']).trade_cnt.cumsum()\n",
    "\n",
    "vals = {}\n",
    "idxs = {}\n",
    "for sid in df.sid.unique():\n",
    "    vals[sid] = df[df.sid==sid].mid_ticks.values\n",
    "    idxs[sid] = df[df.sid==sid].index.values\n",
    "\n",
    "def find_pos(row):\n",
    "    val = row.mid_ticks + 5\n",
    "    idx = np.argwhere(idxs[row.sid] == row.inc_idx).flatten()[0]\n",
    "    val = np.argmax(vals[row.sid][idx:] >= val)\n",
    "    return val\n",
    "\n",
    "def find_neg(row):\n",
    "    val = row.mid_ticks - 5\n",
    "    idx = np.argwhere(idxs[row.sid] == row.inc_idx).flatten()[0]\n",
    "    val = np.argmax(vals[row.sid][idx:] <= val)\n",
    "    return val\n",
    "\n",
    "df['inc_idx'] = df.index\n",
    "\n",
    "df['pos_idx'] = df.apply(find_pos, axis=1)\n",
    "\n",
    "df['neg_idx'] = df.apply(find_neg, axis=1)\n",
    "\n",
    "df['label'] = df.pos_idx < df.neg_idx\n",
    "\n",
    "for x in range(1, 50):\n",
    "    df[f'ticks_{x}'] = df.mid_ticks - df.groupby(['market_id', 'sid']).mid_ticks.shift(x)\n",
    "\n",
    "df['ticks_from_mean'] = df.mid_ticks - df.mean_trd_ticks"
   ]
  },
  {
   "cell_type": "code",
   "execution_count": null,
   "metadata": {},
   "outputs": [],
   "source": [
    "feature_cols = ['batl_v', 'batb_v',\n",
    "       'batl_v_1', 'batb_v_1', 'batl_v_2', 'batb_v_2', 'batl_v_3', 'batb_v_3',\n",
    "       'batl_v_4', 'batb_v_4', 'batl_v_5', 'batb_v_5', 'ticks_from_mean',\n",
    "       'spread', 'ticks_1', 'ticks_2', 'ticks_3', 'ticks_4',\n",
    "       'ticks_5', 'ticks_6', 'ticks_7', 'ticks_8', 'ticks_9', 'ticks_10',\n",
    "       'ticks_11', 'ticks_12', 'ticks_13', 'ticks_14', 'ticks_15', 'ticks_16',\n",
    "       'ticks_17', 'ticks_18', 'ticks_19', 'ticks_20', 'ticks_21', 'ticks_22',\n",
    "       'ticks_23', 'ticks_24', 'ticks_25', 'ticks_26', 'ticks_27', 'ticks_28',\n",
    "       'ticks_29', 'ticks_30', 'ticks_31', 'ticks_32', 'ticks_33', 'ticks_34',\n",
    "       'ticks_35', 'ticks_36', 'ticks_37', 'ticks_38', 'ticks_39', 'ticks_40',\n",
    "       'ticks_41', 'ticks_42', 'ticks_43', 'ticks_44', 'ticks_45', 'ticks_46',\n",
    "       'ticks_47', 'ticks_48', 'ticks_49']\n",
    "\n",
    "y_name = 'label'"
   ]
  },
  {
   "cell_type": "code",
   "execution_count": null,
   "metadata": {},
   "outputs": [],
   "source": [
    "# df = pd.read_csv('analysis_sets/train_sets/oct_2019.csv')"
   ]
  },
  {
   "cell_type": "code",
   "execution_count": null,
   "metadata": {},
   "outputs": [],
   "source": [
    "pass_df = df[feature_cols + [y_name]].dropna()\n",
    "pass_df.shape"
   ]
  },
  {
   "cell_type": "code",
   "execution_count": null,
   "metadata": {},
   "outputs": [],
   "source": [
    "h2o.connect(url='https://34.67.110.23:443', auth=('h2oai', '6978787547046774965'), verify_ssl_certificates=False)"
   ]
  },
  {
   "cell_type": "code",
   "execution_count": null,
   "metadata": {},
   "outputs": [],
   "source": [
    "pass_df.to_csv('./test.csv')\n",
    "!gsutil cp ./test.csv gs://temp_h2o/test.csv"
   ]
  },
  {
   "cell_type": "code",
   "execution_count": null,
   "metadata": {},
   "outputs": [],
   "source": [
    "hf = h2o.import_file('gs://temp_h2o/test.csv')"
   ]
  },
  {
   "cell_type": "code",
   "execution_count": null,
   "metadata": {},
   "outputs": [],
   "source": [
    "# h2o.init()"
   ]
  },
  {
   "cell_type": "code",
   "execution_count": null,
   "metadata": {},
   "outputs": [],
   "source": [
    "# hf = h2o.H2OFrame(pass_df)"
   ]
  },
  {
   "cell_type": "code",
   "execution_count": null,
   "metadata": {},
   "outputs": [],
   "source": [
    "hf = hf.drop('C1', axis=1)"
   ]
  },
  {
   "cell_type": "code",
   "execution_count": null,
   "metadata": {},
   "outputs": [],
   "source": [
    "hf[y_name] = hf[y_name].asfactor()"
   ]
  },
  {
   "cell_type": "code",
   "execution_count": null,
   "metadata": {},
   "outputs": [],
   "source": [
    "# hf.as_data_frame().to_csv('analysis_sets/train_sets/oct_2019.csv')"
   ]
  },
  {
   "cell_type": "code",
   "execution_count": null,
   "metadata": {},
   "outputs": [],
   "source": [
    "# del df\n",
    "# del pass_df"
   ]
  },
  {
   "cell_type": "code",
   "execution_count": null,
   "metadata": {},
   "outputs": [],
   "source": [
    "# model = h2o.import_mojo('GBM_3_AutoML_20191228_003853.zip')"
   ]
  },
  {
   "cell_type": "code",
   "execution_count": null,
   "metadata": {},
   "outputs": [],
   "source": [
    "# perf = model.model_performance(hf)\n",
    "# perf"
   ]
  },
  {
   "cell_type": "code",
   "execution_count": null,
   "metadata": {},
   "outputs": [],
   "source": [
    "# help(H2OAutoML)"
   ]
  },
  {
   "cell_type": "code",
   "execution_count": null,
   "metadata": {},
   "outputs": [],
   "source": [
    "hf.shape"
   ]
  },
  {
   "cell_type": "code",
   "execution_count": null,
   "metadata": {},
   "outputs": [],
   "source": [
    "aml = H2OAutoML(max_models=20, seed=42)\n",
    "# runtime = 60*50\n",
    "# H2OAutoML(max_runtime_secs=runtime, seed=42)\n",
    "aml.train(x=feature_cols, y=y_name, training_frame=hf)"
   ]
  },
  {
   "cell_type": "code",
   "execution_count": null,
   "metadata": {},
   "outputs": [],
   "source": [
    "lb = aml.leaderboard\n",
    "lb.head(rows=lb.nrows)"
   ]
  },
  {
   "cell_type": "code",
   "execution_count": null,
   "metadata": {},
   "outputs": [],
   "source": [
    "# h2o.get_model('AutoML_Leaderboard_test')"
   ]
  },
  {
   "cell_type": "code",
   "execution_count": null,
   "metadata": {},
   "outputs": [],
   "source": [
    "h2o.ls()"
   ]
  },
  {
   "cell_type": "code",
   "execution_count": null,
   "metadata": {},
   "outputs": [],
   "source": [
    "aml.leader.varimp_plot()"
   ]
  },
  {
   "cell_type": "code",
   "execution_count": null,
   "metadata": {},
   "outputs": [],
   "source": [
    "new_model_path = h2o.save_model(h2o_glm, \"hdfs://\" + hdfs_name_node + \"/\" + hdfs_model_path)"
   ]
  },
  {
   "cell_type": "code",
   "execution_count": null,
   "metadata": {},
   "outputs": [],
   "source": [
    "h2o.shutdown()"
   ]
  },
  {
   "cell_type": "code",
   "execution_count": null,
   "metadata": {},
   "outputs": [],
   "source": [
    "aml.leader.download_mojo()"
   ]
  },
  {
   "cell_type": "code",
   "execution_count": null,
   "metadata": {},
   "outputs": [],
   "source": [
    "preds = aml.leader.predict(hf)"
   ]
  },
  {
   "cell_type": "code",
   "execution_count": null,
   "metadata": {},
   "outputs": [],
   "source": [
    "df_ext = preds.as_data_frame()"
   ]
  },
  {
   "cell_type": "code",
   "execution_count": null,
   "metadata": {},
   "outputs": [],
   "source": [
    "df_ext.head()"
   ]
  },
  {
   "cell_type": "code",
   "execution_count": null,
   "metadata": {},
   "outputs": [],
   "source": [
    "for c in df_ext.columns:\n",
    "    pass_df[c] = df_ext[c]"
   ]
  },
  {
   "cell_type": "code",
   "execution_count": null,
   "metadata": {},
   "outputs": [],
   "source": [
    "(pass_df.label == pass_df.predict).sum() / len(pass_df)"
   ]
  },
  {
   "cell_type": "code",
   "execution_count": null,
   "metadata": {},
   "outputs": [],
   "source": [
    "df_ext.shape, pass_df.shape"
   ]
  },
  {
   "cell_type": "code",
   "execution_count": null,
   "metadata": {},
   "outputs": [],
   "source": [
    "h2o.shutdown()"
   ]
  },
  {
   "cell_type": "code",
   "execution_count": null,
   "metadata": {},
   "outputs": [],
   "source": [
    "!gcloud deployment-manager deployments delete h2oai-h2o3-cluster-launcher-1 --delete-policy=DELETE"
   ]
  }
 ],
 "metadata": {
  "kernelspec": {
   "display_name": "h2o",
   "language": "python",
   "name": "h2o"
  },
  "language_info": {
   "codemirror_mode": {
    "name": "ipython",
    "version": 3
   },
   "file_extension": ".py",
   "mimetype": "text/x-python",
   "name": "python",
   "nbconvert_exporter": "python",
   "pygments_lexer": "ipython3",
   "version": "3.6.9"
  }
 },
 "nbformat": 4,
 "nbformat_minor": 4
}
